{
  "nbformat": 4,
  "nbformat_minor": 0,
  "metadata": {
    "accelerator": "GPU",
    "colab": {
      "name": "NLP Course - Week 3 Exercise Answer.ipynb",
      "provenance": [],
      "toc_visible": true,
      "include_colab_link": true
    },
    "kernelspec": {
      "display_name": "Python 3",
      "language": "python",
      "name": "python3"
    },
    "language_info": {
      "codemirror_mode": {
        "name": "ipython",
        "version": 3
      },
      "file_extension": ".py",
      "mimetype": "text/x-python",
      "name": "python",
      "nbconvert_exporter": "python",
      "pygments_lexer": "ipython3",
      "version": "3.7.6"
    }
  },
  "cells": [
    {
      "cell_type": "markdown",
      "metadata": {
        "id": "view-in-github",
        "colab_type": "text"
      },
      "source": [
        "<a href=\"https://colab.research.google.com/github/dpant/TensorFlow/blob/main/Course3-NLP/ClassifyTweetsSentiments-TrainOwnEmbeddingLayer.ipynb\" target=\"_parent\"><img src=\"https://colab.research.google.com/assets/colab-badge.svg\" alt=\"Open In Colab\"/></a>"
      ]
    },
    {
      "cell_type": "code",
      "metadata": {
        "id": "zX4Kg8DUTKWO"
      },
      "source": [
        "#@title Licensed under the Apache License, Version 2.0 (the \"License\");\n",
        "# you may not use this file except in compliance with the License.\n",
        "# You may obtain a copy of the License at\n",
        "#\n",
        "# https://www.apache.org/licenses/LICENSE-2.0\n",
        "#\n",
        "# Unless required by applicable law or agreed to in writing, software\n",
        "# distributed under the License is distributed on an \"AS IS\" BASIS,\n",
        "# WITHOUT WARRANTIES OR CONDITIONS OF ANY KIND, either express or implied.\n",
        "# See the License for the specific language governing permissions and\n",
        "# limitations under the License."
      ],
      "execution_count": 1,
      "outputs": []
    },
    {
      "cell_type": "markdown",
      "metadata": {
        "id": "xoro2D_7s1Cs"
      },
      "source": [
        "<a href=\"https://colab.research.google.com/github/lmoroney/dlaicourse/blob/master/TensorFlow%20In%20Practice/Course%203%20-%20NLP/NLP%20Course%20-%20Week%203%20Exercise%20Answer.ipynb\" target=\"_parent\"><img src=\"https://colab.research.google.com/assets/colab-badge.svg\" alt=\"Open In Colab\"/></a>"
      ]
    },
    {
      "cell_type": "code",
      "metadata": {
        "id": "hmA6EzkQJ5jt"
      },
      "source": [
        "import json\n",
        "import tensorflow as tf\n",
        "import csv\n",
        "import random\n",
        "import numpy as np\n",
        "\n",
        "from tensorflow.keras.preprocessing.text import Tokenizer\n",
        "from tensorflow.keras.preprocessing.sequence import pad_sequences\n",
        "from tensorflow.keras.utils import to_categorical\n",
        "from tensorflow.keras import regularizers\n",
        "\n",
        "\n",
        "embedding_dim = 100\n",
        "max_length = 16\n",
        "trunc_type='post'\n",
        "padding_type='post'\n",
        "oov_tok = \"<OOV>\"\n",
        "training_size=160000\n",
        "test_portion=.1\n",
        "\n",
        "corpus = []\n"
      ],
      "execution_count": 2,
      "outputs": []
    },
    {
      "cell_type": "code",
      "metadata": {
        "colab": {
          "base_uri": "https://localhost:8080/"
        },
        "id": "bM0l_dORKqE0",
        "outputId": "8977b079-d362-47d1-ae95-6e2dbbfa6214"
      },
      "source": [
        "# Note that I cleaned the Stanford dataset to remove LATIN1 encoding to make it easier for Python CSV reader\n",
        "# You can do that yourself with:\n",
        "# iconv -f LATIN1 -t UTF8 training.1600000.processed.noemoticon.csv -o training_cleaned.csv\n",
        "# I then hosted it on my site to make it easier to use in this notebook\n",
        "\n",
        "!wget --no-check-certificate \\\n",
        "    https://storage.googleapis.com/laurencemoroney-blog.appspot.com/training_cleaned.csv \\\n",
        "    -O /tmp/training_cleaned.csv\n",
        "\n",
        "num_sentences = 0\n",
        "\n",
        "with open(\"/tmp/training_cleaned.csv\") as csvfile:\n",
        "    reader = csv.reader(csvfile, delimiter=',')\n",
        "    for row in reader:\n",
        "        list_item=[]\n",
        "        list_item.append(row[5])\n",
        "        this_label=row[0]\n",
        "        if this_label=='0':\n",
        "            list_item.append(0)\n",
        "        else:\n",
        "            list_item.append(1)\n",
        "        num_sentences = num_sentences + 1\n",
        "        corpus.append(list_item)\n"
      ],
      "execution_count": 3,
      "outputs": [
        {
          "output_type": "stream",
          "text": [
            "--2021-07-16 00:25:38--  https://storage.googleapis.com/laurencemoroney-blog.appspot.com/training_cleaned.csv\n",
            "Resolving storage.googleapis.com (storage.googleapis.com)... 142.250.153.128, 74.125.128.128, 74.125.143.128, ...\n",
            "Connecting to storage.googleapis.com (storage.googleapis.com)|142.250.153.128|:443... connected.\n",
            "HTTP request sent, awaiting response... 200 OK\n",
            "Length: 238942690 (228M) [application/octet-stream]\n",
            "Saving to: ‘/tmp/training_cleaned.csv’\n",
            "\n",
            "/tmp/training_clean 100%[===================>] 227.87M   228MB/s    in 1.0s    \n",
            "\n",
            "2021-07-16 00:25:39 (228 MB/s) - ‘/tmp/training_cleaned.csv’ saved [238942690/238942690]\n",
            "\n"
          ],
          "name": "stdout"
        }
      ]
    },
    {
      "cell_type": "code",
      "metadata": {
        "colab": {
          "base_uri": "https://localhost:8080/"
        },
        "id": "3kxblBUjEUX-",
        "outputId": "a1e4ecfb-f906-4264-9d0d-3fd215bc4ee7"
      },
      "source": [
        "print(num_sentences)\n",
        "print(len(corpus))\n",
        "print(corpus[1])\n",
        "\n",
        "# Expected Output:\n",
        "# 1600000\n",
        "# 1600000\n",
        "# [\"is upset that he can't update his Facebook by texting it... and might cry as a result  School today also. Blah!\", 0]"
      ],
      "execution_count": 4,
      "outputs": [
        {
          "output_type": "stream",
          "text": [
            "1600000\n",
            "1600000\n",
            "[\"is upset that he can't update his Facebook by texting it... and might cry as a result  School today also. Blah!\", 0]\n"
          ],
          "name": "stdout"
        }
      ]
    },
    {
      "cell_type": "code",
      "metadata": {
        "id": "ohOGz24lsNAD"
      },
      "source": [
        "sentences=[]\n",
        "labels=[]\n",
        "random.shuffle(corpus)\n",
        "for x in range(training_size):\n",
        "    sentences.append(corpus[x][0])\n",
        "    labels.append(corpus[x][1])\n",
        "\n",
        "\n",
        "tokenizer = Tokenizer()\n",
        "tokenizer.fit_on_texts(sentences)\n",
        "\n",
        "word_index = tokenizer.word_index\n",
        "vocab_size=len(word_index)\n",
        "\n",
        "sequences = tokenizer.texts_to_sequences(sentences)\n",
        "padded = pad_sequences(sequences, maxlen=max_length, padding=padding_type, truncating=trunc_type)\n",
        "\n",
        "split = int(test_portion * training_size)\n",
        "\n",
        "test_sequences = padded[0:split]\n",
        "training_sequences = padded[split:training_size]\n",
        "test_labels = labels[0:split]\n",
        "training_labels = labels[split:training_size]"
      ],
      "execution_count": 5,
      "outputs": []
    },
    {
      "cell_type": "code",
      "metadata": {
        "colab": {
          "base_uri": "https://localhost:8080/"
        },
        "id": "gIrtRem1En3N",
        "outputId": "ad6b8077-2e30-4d4e-df68-549d0cd5d237"
      },
      "source": [
        "print(vocab_size)\n",
        "print(word_index['i'])\n",
        "# Expected Output\n",
        "# 138858\n",
        "# 1"
      ],
      "execution_count": 6,
      "outputs": [
        {
          "output_type": "stream",
          "text": [
            "138363\n",
            "1\n"
          ],
          "name": "stdout"
        }
      ]
    },
    {
      "cell_type": "code",
      "metadata": {
        "colab": {
          "base_uri": "https://localhost:8080/"
        },
        "id": "iKKvbuEBOGFz",
        "outputId": "60515928-6211-415a-d946-9667ac41e161"
      },
      "source": [
        "model = tf.keras.Sequential([\n",
        "    #tf.keras.layers.Embedding(vocab_size+1, embedding_dim, input_length=max_length, weights=[embeddings_matrix], trainable=False),\n",
        "    tf.keras.layers.Embedding(vocab_size+1, embedding_dim, input_length=max_length),\n",
        "    tf.keras.layers.Dropout(0.2),\n",
        "    tf.keras.layers.Conv1D(64, 5, activation='relu'),\n",
        "    tf.keras.layers.MaxPooling1D(pool_size=4),\n",
        "    tf.keras.layers.LSTM(64),\n",
        "    tf.keras.layers.Dense(1, activation='sigmoid')\n",
        "])\n",
        "model.compile(loss='binary_crossentropy',optimizer='adam',metrics=['accuracy'])\n",
        "model.summary()\n",
        "\n",
        "num_epochs = 50\n",
        "\n",
        "training_padded = np.array(training_sequences)\n",
        "training_labels = np.array(training_labels)\n",
        "testing_padded = np.array(test_sequences)\n",
        "testing_labels = np.array(test_labels)\n",
        "\n",
        "history = model.fit(training_padded, training_labels, epochs=num_epochs, validation_data=(testing_padded, testing_labels), verbose=2)\n",
        "\n",
        "print(\"Training Complete\")"
      ],
      "execution_count": 9,
      "outputs": [
        {
          "output_type": "stream",
          "text": [
            "Model: \"sequential\"\n",
            "_________________________________________________________________\n",
            "Layer (type)                 Output Shape              Param #   \n",
            "=================================================================\n",
            "embedding (Embedding)        (None, 16, 100)           13836400  \n",
            "_________________________________________________________________\n",
            "dropout (Dropout)            (None, 16, 100)           0         \n",
            "_________________________________________________________________\n",
            "conv1d (Conv1D)              (None, 12, 64)            32064     \n",
            "_________________________________________________________________\n",
            "max_pooling1d (MaxPooling1D) (None, 3, 64)             0         \n",
            "_________________________________________________________________\n",
            "lstm (LSTM)                  (None, 64)                33024     \n",
            "_________________________________________________________________\n",
            "dense (Dense)                (None, 1)                 65        \n",
            "=================================================================\n",
            "Total params: 13,901,553\n",
            "Trainable params: 13,901,553\n",
            "Non-trainable params: 0\n",
            "_________________________________________________________________\n",
            "Epoch 1/50\n",
            "4500/4500 - 574s - loss: 0.4911 - accuracy: 0.7594 - val_loss: 0.4545 - val_accuracy: 0.7864\n",
            "Epoch 2/50\n",
            "4500/4500 - 555s - loss: 0.3356 - accuracy: 0.8546 - val_loss: 0.4974 - val_accuracy: 0.7646\n",
            "Epoch 3/50\n",
            "4500/4500 - 555s - loss: 0.1880 - accuracy: 0.9257 - val_loss: 0.6268 - val_accuracy: 0.7546\n",
            "Epoch 4/50\n",
            "4500/4500 - 554s - loss: 0.1140 - accuracy: 0.9568 - val_loss: 0.7710 - val_accuracy: 0.7451\n",
            "Epoch 5/50\n",
            "4500/4500 - 554s - loss: 0.0776 - accuracy: 0.9706 - val_loss: 0.8213 - val_accuracy: 0.7374\n",
            "Epoch 6/50\n",
            "4500/4500 - 555s - loss: 0.0582 - accuracy: 0.9782 - val_loss: 0.9790 - val_accuracy: 0.7373\n",
            "Epoch 7/50\n",
            "4500/4500 - 556s - loss: 0.0468 - accuracy: 0.9827 - val_loss: 1.0157 - val_accuracy: 0.7356\n",
            "Epoch 8/50\n",
            "4500/4500 - 555s - loss: 0.0382 - accuracy: 0.9856 - val_loss: 1.0761 - val_accuracy: 0.7368\n",
            "Epoch 9/50\n",
            "4500/4500 - 556s - loss: 0.0328 - accuracy: 0.9881 - val_loss: 1.2109 - val_accuracy: 0.7297\n",
            "Epoch 10/50\n",
            "4500/4500 - 556s - loss: 0.0284 - accuracy: 0.9894 - val_loss: 1.2426 - val_accuracy: 0.7324\n",
            "Epoch 11/50\n",
            "4500/4500 - 556s - loss: 0.0251 - accuracy: 0.9904 - val_loss: 1.3400 - val_accuracy: 0.7389\n",
            "Epoch 12/50\n",
            "4500/4500 - 555s - loss: 0.0227 - accuracy: 0.9918 - val_loss: 1.3609 - val_accuracy: 0.7363\n",
            "Epoch 13/50\n",
            "4500/4500 - 556s - loss: 0.0209 - accuracy: 0.9925 - val_loss: 1.3352 - val_accuracy: 0.7315\n",
            "Epoch 14/50\n",
            "4500/4500 - 555s - loss: 0.0188 - accuracy: 0.9932 - val_loss: 1.3919 - val_accuracy: 0.7360\n",
            "Epoch 15/50\n",
            "4500/4500 - 556s - loss: 0.0182 - accuracy: 0.9936 - val_loss: 1.3461 - val_accuracy: 0.7347\n",
            "Epoch 16/50\n",
            "4500/4500 - 556s - loss: 0.0163 - accuracy: 0.9941 - val_loss: 1.4656 - val_accuracy: 0.7376\n",
            "Epoch 17/50\n",
            "4500/4500 - 556s - loss: 0.0159 - accuracy: 0.9943 - val_loss: 1.4216 - val_accuracy: 0.7350\n",
            "Epoch 18/50\n",
            "4500/4500 - 556s - loss: 0.0150 - accuracy: 0.9946 - val_loss: 1.3506 - val_accuracy: 0.7333\n",
            "Epoch 19/50\n",
            "4500/4500 - 556s - loss: 0.0140 - accuracy: 0.9950 - val_loss: 1.3975 - val_accuracy: 0.7391\n",
            "Epoch 20/50\n",
            "4500/4500 - 556s - loss: 0.0131 - accuracy: 0.9954 - val_loss: 1.4838 - val_accuracy: 0.7296\n",
            "Epoch 21/50\n",
            "4500/4500 - 556s - loss: 0.0134 - accuracy: 0.9954 - val_loss: 1.4420 - val_accuracy: 0.7347\n",
            "Epoch 22/50\n",
            "4500/4500 - 557s - loss: 0.0122 - accuracy: 0.9956 - val_loss: 1.5214 - val_accuracy: 0.7354\n",
            "Epoch 23/50\n",
            "4500/4500 - 556s - loss: 0.0115 - accuracy: 0.9958 - val_loss: 1.4867 - val_accuracy: 0.7344\n",
            "Epoch 24/50\n",
            "4500/4500 - 557s - loss: 0.0111 - accuracy: 0.9959 - val_loss: 1.4955 - val_accuracy: 0.7339\n",
            "Epoch 25/50\n",
            "4500/4500 - 556s - loss: 0.0114 - accuracy: 0.9959 - val_loss: 1.5810 - val_accuracy: 0.7327\n",
            "Epoch 26/50\n",
            "4500/4500 - 557s - loss: 0.0107 - accuracy: 0.9960 - val_loss: 1.4733 - val_accuracy: 0.7304\n",
            "Epoch 27/50\n",
            "4500/4500 - 556s - loss: 0.0106 - accuracy: 0.9962 - val_loss: 1.4473 - val_accuracy: 0.7303\n",
            "Epoch 28/50\n",
            "4500/4500 - 556s - loss: 0.0100 - accuracy: 0.9963 - val_loss: 1.5641 - val_accuracy: 0.7303\n",
            "Epoch 29/50\n",
            "4500/4500 - 557s - loss: 0.0096 - accuracy: 0.9966 - val_loss: 1.6473 - val_accuracy: 0.7296\n",
            "Epoch 30/50\n",
            "4500/4500 - 557s - loss: 0.0092 - accuracy: 0.9968 - val_loss: 1.6395 - val_accuracy: 0.7251\n",
            "Epoch 31/50\n",
            "4500/4500 - 556s - loss: 0.0094 - accuracy: 0.9967 - val_loss: 1.6076 - val_accuracy: 0.7306\n",
            "Epoch 32/50\n",
            "4500/4500 - 557s - loss: 0.0089 - accuracy: 0.9968 - val_loss: 1.6314 - val_accuracy: 0.7328\n",
            "Epoch 33/50\n",
            "4500/4500 - 557s - loss: 0.0086 - accuracy: 0.9970 - val_loss: 1.7124 - val_accuracy: 0.7353\n",
            "Epoch 34/50\n",
            "4500/4500 - 557s - loss: 0.0085 - accuracy: 0.9970 - val_loss: 1.6081 - val_accuracy: 0.7305\n",
            "Epoch 35/50\n",
            "4500/4500 - 556s - loss: 0.0087 - accuracy: 0.9969 - val_loss: 1.5667 - val_accuracy: 0.7314\n",
            "Epoch 36/50\n",
            "4500/4500 - 557s - loss: 0.0083 - accuracy: 0.9971 - val_loss: 1.6576 - val_accuracy: 0.7333\n",
            "Epoch 37/50\n",
            "4500/4500 - 558s - loss: 0.0084 - accuracy: 0.9969 - val_loss: 1.6248 - val_accuracy: 0.7308\n",
            "Epoch 38/50\n",
            "4500/4500 - 557s - loss: 0.0085 - accuracy: 0.9969 - val_loss: 1.6800 - val_accuracy: 0.7285\n",
            "Epoch 39/50\n",
            "4500/4500 - 558s - loss: 0.0080 - accuracy: 0.9973 - val_loss: 1.6507 - val_accuracy: 0.7330\n",
            "Epoch 40/50\n",
            "4500/4500 - 557s - loss: 0.0081 - accuracy: 0.9971 - val_loss: 1.5705 - val_accuracy: 0.7324\n",
            "Epoch 41/50\n",
            "4500/4500 - 556s - loss: 0.0076 - accuracy: 0.9972 - val_loss: 1.7214 - val_accuracy: 0.7259\n",
            "Epoch 42/50\n",
            "4500/4500 - 556s - loss: 0.0070 - accuracy: 0.9974 - val_loss: 1.7812 - val_accuracy: 0.7355\n",
            "Epoch 43/50\n",
            "4500/4500 - 557s - loss: 0.0075 - accuracy: 0.9972 - val_loss: 1.7130 - val_accuracy: 0.7381\n",
            "Epoch 44/50\n",
            "4500/4500 - 557s - loss: 0.0073 - accuracy: 0.9972 - val_loss: 1.7578 - val_accuracy: 0.7347\n",
            "Epoch 45/50\n",
            "4500/4500 - 557s - loss: 0.0077 - accuracy: 0.9973 - val_loss: 1.6120 - val_accuracy: 0.7282\n",
            "Epoch 46/50\n",
            "4500/4500 - 557s - loss: 0.0072 - accuracy: 0.9974 - val_loss: 1.7352 - val_accuracy: 0.7287\n",
            "Epoch 47/50\n",
            "4500/4500 - 556s - loss: 0.0070 - accuracy: 0.9975 - val_loss: 1.6769 - val_accuracy: 0.7308\n",
            "Epoch 48/50\n",
            "4500/4500 - 558s - loss: 0.0071 - accuracy: 0.9976 - val_loss: 1.6363 - val_accuracy: 0.7288\n",
            "Epoch 49/50\n",
            "4500/4500 - 561s - loss: 0.0068 - accuracy: 0.9974 - val_loss: 1.7875 - val_accuracy: 0.7301\n",
            "Epoch 50/50\n",
            "4500/4500 - 562s - loss: 0.0064 - accuracy: 0.9976 - val_loss: 1.8546 - val_accuracy: 0.7278\n",
            "Training Complete\n"
          ],
          "name": "stdout"
        }
      ]
    },
    {
      "cell_type": "code",
      "metadata": {
        "colab": {
          "base_uri": "https://localhost:8080/",
          "height": 608
        },
        "id": "qxju4ItJKO8F",
        "outputId": "850158e9-619c-41ca-92b0-034fe0ec22b7"
      },
      "source": [
        "import matplotlib.image  as mpimg\n",
        "import matplotlib.pyplot as plt\n",
        "\n",
        "#-----------------------------------------------------------\n",
        "# Retrieve a list of list results on training and test data\n",
        "# sets for each training epoch\n",
        "#-----------------------------------------------------------\n",
        "acc=history.history['accuracy']\n",
        "val_acc=history.history['val_accuracy']\n",
        "loss=history.history['loss']\n",
        "val_loss=history.history['val_loss']\n",
        "\n",
        "epochs=range(len(acc)) # Get number of epochs\n",
        "\n",
        "#------------------------------------------------\n",
        "# Plot training and validation accuracy per epoch\n",
        "#------------------------------------------------\n",
        "plt.plot(epochs, acc, 'r')\n",
        "plt.plot(epochs, val_acc, 'b')\n",
        "plt.title('Training and validation accuracy')\n",
        "plt.xlabel(\"Epochs\")\n",
        "plt.ylabel(\"Accuracy\")\n",
        "plt.legend([\"Accuracy\", \"Validation Accuracy\"])\n",
        "\n",
        "plt.figure()\n",
        "\n",
        "#------------------------------------------------\n",
        "# Plot training and validation loss per epoch\n",
        "#------------------------------------------------\n",
        "plt.plot(epochs, loss, 'r')\n",
        "plt.plot(epochs, val_loss, 'b')\n",
        "plt.title('Training and validation loss')\n",
        "plt.xlabel(\"Epochs\")\n",
        "plt.ylabel(\"Loss\")\n",
        "plt.legend([\"Loss\", \"Validation Loss\"])\n",
        "\n",
        "plt.figure()\n",
        "\n",
        "\n",
        "# Expected Output\n",
        "# A chart where the validation loss does not increase sharply!"
      ],
      "execution_count": 10,
      "outputs": [
        {
          "output_type": "execute_result",
          "data": {
            "text/plain": [
              "<Figure size 432x288 with 0 Axes>"
            ]
          },
          "metadata": {
            "tags": []
          },
          "execution_count": 10
        },
        {
          "output_type": "display_data",
          "data": {
            "image/png": "[encoded data removed]",
            "text/plain": [
              "<Figure size 432x288 with 1 Axes>"
            ]
          },
          "metadata": {
            "tags": [],
            "needs_background": "light"
          }
        },
        {
          "output_type": "display_data",
          "data": {
            "image/png": "[encoded data removed]",
            "text/plain": [
              "<Figure size 432x288 with 1 Axes>"
            ]
          },
          "metadata": {
            "tags": [],
            "needs_background": "light"
          }
        },
        {
          "output_type": "display_data",
          "data": {
            "text/plain": [
              "<Figure size 432x288 with 0 Axes>"
            ]
          },
          "metadata": {
            "tags": []
          }
        }
      ]
    }
  ]
}