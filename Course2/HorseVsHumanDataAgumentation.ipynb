{
  "nbformat": 4,
  "nbformat_minor": 0,
  "metadata": {
    "accelerator": "GPU",
    "colab": {
      "name": "Course 2 - Part 4 - Lesson 4 - Notebook.ipynb",
      "provenance": [],
      "collapsed_sections": [],
      "toc_visible": true,
      "include_colab_link": true
    },
    "kernelspec": {
      "display_name": "Python 3",
      "name": "python3"
    }
  },
  "cells": [
    {
      "cell_type": "markdown",
      "metadata": {
        "id": "view-in-github",
        "colab_type": "text"
      },
      "source": [
        "<a href=\"https://colab.research.google.com/github/dpant/TensorFlow/blob/main/Course2/HorseVsHumanDataAgumentation.ipynb\" target=\"_parent\"><img src=\"https://colab.research.google.com/assets/colab-badge.svg\" alt=\"Open In Colab\"/></a>"
      ]
    },
    {
      "cell_type": "markdown",
      "metadata": {
        "id": "rX8mhOLljYeM"
      },
      "source": [
        "##### Copyright 2019 The TensorFlow Authors."
      ]
    },
    {
      "cell_type": "code",
      "metadata": {
        "cellView": "form",
        "id": "BZSlp3DAjdYf"
      },
      "source": [
        "#@title Licensed under the Apache License, Version 2.0 (the \"License\");\n",
        "# you may not use this file except in compliance with the License.\n",
        "# You may obtain a copy of the License at\n",
        "#\n",
        "# https://www.apache.org/licenses/LICENSE-2.0\n",
        "#\n",
        "# Unless required by applicable law or agreed to in writing, software\n",
        "# distributed under the License is distributed on an \"AS IS\" BASIS,\n",
        "# WITHOUT WARRANTIES OR CONDITIONS OF ANY KIND, either express or implied.\n",
        "# See the License for the specific language governing permissions and\n",
        "# limitations under the License."
      ],
      "execution_count": null,
      "outputs": []
    },
    {
      "cell_type": "code",
      "metadata": {
        "colab": {
          "base_uri": "https://localhost:8080/"
        },
        "id": "RXZT2UsyIVe_",
        "outputId": "a366c51b-880b-4466-9ae1-f183c8fe2cb8"
      },
      "source": [
        "!wget --no-check-certificate \\\n",
        "    https://storage.googleapis.com/laurencemoroney-blog.appspot.com/horse-or-human.zip \\\n",
        "    -O /tmp/horse-or-human.zip\n",
        "\n",
        "!wget --no-check-certificate \\\n",
        "    https://storage.googleapis.com/laurencemoroney-blog.appspot.com/validation-horse-or-human.zip \\\n",
        "    -O /tmp/validation-horse-or-human.zip\n",
        "  \n",
        "import os\n",
        "import zipfile\n",
        "\n",
        "local_zip = '/tmp/horse-or-human.zip'\n",
        "zip_ref = zipfile.ZipFile(local_zip, 'r')\n",
        "zip_ref.extractall('/tmp/horse-or-human')\n",
        "local_zip = '/tmp/validation-horse-or-human.zip'\n",
        "zip_ref = zipfile.ZipFile(local_zip, 'r')\n",
        "zip_ref.extractall('/tmp/validation-horse-or-human')\n",
        "zip_ref.close()\n",
        "# Directory with our training horse pictures\n",
        "train_horse_dir = os.path.join('/tmp/horse-or-human/horses')\n",
        "\n",
        "# Directory with our training human pictures\n",
        "train_human_dir = os.path.join('/tmp/horse-or-human/humans')\n",
        "\n",
        "# Directory with our training horse pictures\n",
        "validation_horse_dir = os.path.join('/tmp/validation-horse-or-human/horses')\n",
        "\n",
        "# Directory with our training human pictures\n",
        "validation_human_dir = os.path.join('/tmp/validation-horse-or-human/humans')"
      ],
      "execution_count": 1,
      "outputs": [
        {
          "output_type": "stream",
          "text": [
            "--2021-07-10 07:56:35--  https://storage.googleapis.com/laurencemoroney-blog.appspot.com/horse-or-human.zip\n",
            "Resolving storage.googleapis.com (storage.googleapis.com)... 108.177.127.128, 172.217.218.128, 142.250.153.128, ...\n",
            "Connecting to storage.googleapis.com (storage.googleapis.com)|108.177.127.128|:443... connected.\n",
            "HTTP request sent, awaiting response... 200 OK\n",
            "Length: 149574867 (143M) [application/zip]\n",
            "Saving to: ‘/tmp/horse-or-human.zip’\n",
            "\n",
            "/tmp/horse-or-human 100%[===================>] 142.65M   230MB/s    in 0.6s    \n",
            "\n",
            "2021-07-10 07:56:36 (230 MB/s) - ‘/tmp/horse-or-human.zip’ saved [149574867/149574867]\n",
            "\n",
            "--2021-07-10 07:56:36--  https://storage.googleapis.com/laurencemoroney-blog.appspot.com/validation-horse-or-human.zip\n",
            "Resolving storage.googleapis.com (storage.googleapis.com)... 108.177.127.128, 172.217.218.128, 142.250.153.128, ...\n",
            "Connecting to storage.googleapis.com (storage.googleapis.com)|108.177.127.128|:443... connected.\n",
            "HTTP request sent, awaiting response... 200 OK\n",
            "Length: 11480187 (11M) [application/zip]\n",
            "Saving to: ‘/tmp/validation-horse-or-human.zip’\n",
            "\n",
            "/tmp/validation-hor 100%[===================>]  10.95M  24.3MB/s    in 0.5s    \n",
            "\n",
            "2021-07-10 07:56:37 (24.3 MB/s) - ‘/tmp/validation-horse-or-human.zip’ saved [11480187/11480187]\n",
            "\n"
          ],
          "name": "stdout"
        }
      ]
    },
    {
      "cell_type": "markdown",
      "metadata": {
        "id": "5oqBkNBJmtUv"
      },
      "source": [
        "## Building a Small Model from Scratch\n",
        "\n",
        "But before we continue, let's start defining the model:\n",
        "\n",
        "Step 1 will be to import tensorflow."
      ]
    },
    {
      "cell_type": "code",
      "metadata": {
        "id": "qvfZg3LQbD-5"
      },
      "source": [
        "import tensorflow as tf"
      ],
      "execution_count": 2,
      "outputs": []
    },
    {
      "cell_type": "markdown",
      "metadata": {
        "id": "BnhYCP4tdqjC"
      },
      "source": [
        "We then add convolutional layers as in the previous example, and flatten the final result to feed into the densely connected layers."
      ]
    },
    {
      "cell_type": "markdown",
      "metadata": {
        "id": "gokG5HKpdtzm"
      },
      "source": [
        "Finally we add the densely connected layers. \n",
        "\n",
        "Note that because we are facing a two-class classification problem, i.e. a *binary classification problem*, we will end our network with a [*sigmoid* activation](https://wikipedia.org/wiki/Sigmoid_function), so that the output of our network will be a single scalar between 0 and 1, encoding the probability that the current image is class 1 (as opposed to class 0)."
      ]
    },
    {
      "cell_type": "code",
      "metadata": {
        "id": "PixZ2s5QbYQ3"
      },
      "source": [
        "model = tf.keras.models.Sequential([\n",
        "    # Note the input shape is the desired size of the image 300x300 with 3 bytes color\n",
        "    # This is the first convolution\n",
        "    tf.keras.layers.Conv2D(16, (3,3), activation='relu', input_shape=(300, 300, 3)),\n",
        "    tf.keras.layers.MaxPooling2D(2, 2),\n",
        "    # The second convolution\n",
        "    tf.keras.layers.Conv2D(32, (3,3), activation='relu'),\n",
        "    tf.keras.layers.MaxPooling2D(2,2),\n",
        "    # The third convolution\n",
        "    tf.keras.layers.Conv2D(64, (3,3), activation='relu'),\n",
        "    tf.keras.layers.MaxPooling2D(2,2),\n",
        "    # The fourth convolution\n",
        "    tf.keras.layers.Conv2D(64, (3,3), activation='relu'),\n",
        "    tf.keras.layers.MaxPooling2D(2,2),\n",
        "    # The fifth convolution\n",
        "    tf.keras.layers.Conv2D(64, (3,3), activation='relu'),\n",
        "    tf.keras.layers.MaxPooling2D(2,2),\n",
        "    # Flatten the results to feed into a DNN\n",
        "    tf.keras.layers.Flatten(),\n",
        "    # 512 neuron hidden layer\n",
        "    tf.keras.layers.Dense(512, activation='relu'),\n",
        "    # Only 1 output neuron. It will contain a value from 0-1 where 0 for 1 class ('horses') and 1 for the other ('humans')\n",
        "    tf.keras.layers.Dense(1, activation='sigmoid')\n",
        "])"
      ],
      "execution_count": 3,
      "outputs": []
    },
    {
      "cell_type": "code",
      "metadata": {
        "colab": {
          "base_uri": "https://localhost:8080/"
        },
        "id": "8DHWhFP_uhq3",
        "outputId": "fa7421cd-28d3-4506-bbce-1a3c5f94c2e4"
      },
      "source": [
        "from tensorflow.keras.optimizers import RMSprop\n",
        "\n",
        "model.compile(loss='binary_crossentropy',\n",
        "              optimizer=RMSprop(lr=1e-4),\n",
        "              metrics=['accuracy'])"
      ],
      "execution_count": 4,
      "outputs": [
        {
          "output_type": "stream",
          "text": [
            "/usr/local/lib/python3.7/dist-packages/tensorflow/python/keras/optimizer_v2/optimizer_v2.py:375: UserWarning: The `lr` argument is deprecated, use `learning_rate` instead.\n",
            "  \"The `lr` argument is deprecated, use `learning_rate` instead.\")\n"
          ],
          "name": "stderr"
        }
      ]
    },
    {
      "cell_type": "code",
      "metadata": {
        "colab": {
          "base_uri": "https://localhost:8080/"
        },
        "id": "ClebU9NJg99G",
        "outputId": "13ebc95a-5ef4-490f-92ba-266699680432"
      },
      "source": [
        "from tensorflow.keras.preprocessing.image import ImageDataGenerator\n",
        "\n",
        "# All images will be rescaled by 1./255\n",
        "train_datagen = ImageDataGenerator(\n",
        "      rescale=1./255,\n",
        "      rotation_range=40,\n",
        "      width_shift_range=0.2,\n",
        "      height_shift_range=0.2,\n",
        "      shear_range=0.2,\n",
        "      zoom_range=0.2,\n",
        "      horizontal_flip=True,\n",
        "      fill_mode='nearest')\n",
        "\n",
        "validation_datagen = ImageDataGenerator(rescale=1/255)\n",
        "\n",
        "# Flow training images in batches of 128 using train_datagen generator\n",
        "train_generator = train_datagen.flow_from_directory(\n",
        "        '/tmp/horse-or-human/',  # This is the source directory for training images\n",
        "        target_size=(300, 300),  # All images will be resized to 150x150\n",
        "        batch_size=128,\n",
        "        # Since we use binary_crossentropy loss, we need binary labels\n",
        "        class_mode='binary')\n",
        "\n",
        "# Flow training images in batches of 128 using train_datagen generator\n",
        "validation_generator = validation_datagen.flow_from_directory(\n",
        "        '/tmp/validation-horse-or-human/',  # This is the source directory for training images\n",
        "        target_size=(300, 300),  # All images will be resized to 150x150\n",
        "        batch_size=32,\n",
        "        # Since we use binary_crossentropy loss, we need binary labels\n",
        "        class_mode='binary')"
      ],
      "execution_count": 5,
      "outputs": [
        {
          "output_type": "stream",
          "text": [
            "Found 1027 images belonging to 2 classes.\n",
            "Found 256 images belonging to 2 classes.\n"
          ],
          "name": "stdout"
        }
      ]
    },
    {
      "cell_type": "code",
      "metadata": {
        "colab": {
          "base_uri": "https://localhost:8080/"
        },
        "id": "Fb1_lgobv81m",
        "outputId": "86c0138a-11ca-4514-cddc-e9836cf5f363"
      },
      "source": [
        "history = model.fit(\n",
        "      train_generator,\n",
        "      steps_per_epoch=8,  \n",
        "      epochs=100,\n",
        "      verbose=1,\n",
        "      validation_data = validation_generator,\n",
        "      validation_steps=8)"
      ],
      "execution_count": 6,
      "outputs": [
        {
          "output_type": "stream",
          "text": [
            "Epoch 1/100\n",
            "8/8 [==============================] - 35s 2s/step - loss: 0.6904 - accuracy: 0.5384 - val_loss: 0.6538 - val_accuracy: 0.8867\n",
            "Epoch 2/100\n",
            "8/8 [==============================] - 21s 3s/step - loss: 0.6827 - accuracy: 0.5317 - val_loss: 0.6491 - val_accuracy: 0.5664\n",
            "Epoch 3/100\n",
            "8/8 [==============================] - 21s 3s/step - loss: 0.6757 - accuracy: 0.5784 - val_loss: 0.6149 - val_accuracy: 0.7227\n",
            "Epoch 4/100\n",
            "8/8 [==============================] - 21s 3s/step - loss: 0.6646 - accuracy: 0.6274 - val_loss: 0.5992 - val_accuracy: 0.6758\n",
            "Epoch 5/100\n",
            "8/8 [==============================] - 21s 3s/step - loss: 0.6373 - accuracy: 0.7086 - val_loss: 0.5625 - val_accuracy: 0.7227\n",
            "Epoch 6/100\n",
            "8/8 [==============================] - 21s 3s/step - loss: 0.6212 - accuracy: 0.6952 - val_loss: 0.5360 - val_accuracy: 0.7422\n",
            "Epoch 7/100\n",
            "8/8 [==============================] - 21s 3s/step - loss: 0.5965 - accuracy: 0.7386 - val_loss: 0.4879 - val_accuracy: 0.7812\n",
            "Epoch 8/100\n",
            "8/8 [==============================] - 21s 3s/step - loss: 0.6096 - accuracy: 0.6952 - val_loss: 0.4816 - val_accuracy: 0.7539\n",
            "Epoch 9/100\n",
            "8/8 [==============================] - 23s 3s/step - loss: 0.5394 - accuracy: 0.7520 - val_loss: 0.4177 - val_accuracy: 0.8164\n",
            "Epoch 10/100\n",
            "8/8 [==============================] - 21s 3s/step - loss: 0.5965 - accuracy: 0.7275 - val_loss: 0.4802 - val_accuracy: 0.7422\n",
            "Epoch 11/100\n",
            "8/8 [==============================] - 21s 3s/step - loss: 0.5250 - accuracy: 0.7475 - val_loss: 0.7198 - val_accuracy: 0.5977\n",
            "Epoch 12/100\n",
            "8/8 [==============================] - 21s 3s/step - loss: 0.5007 - accuracy: 0.7697 - val_loss: 0.7202 - val_accuracy: 0.6367\n",
            "Epoch 13/100\n",
            "8/8 [==============================] - 21s 3s/step - loss: 0.5100 - accuracy: 0.7508 - val_loss: 0.8666 - val_accuracy: 0.5898\n",
            "Epoch 14/100\n",
            "8/8 [==============================] - 23s 3s/step - loss: 0.5110 - accuracy: 0.7510 - val_loss: 0.8553 - val_accuracy: 0.6016\n",
            "Epoch 15/100\n",
            "8/8 [==============================] - 21s 3s/step - loss: 0.4907 - accuracy: 0.7464 - val_loss: 0.7580 - val_accuracy: 0.6641\n",
            "Epoch 16/100\n",
            "8/8 [==============================] - 23s 3s/step - loss: 0.4887 - accuracy: 0.7402 - val_loss: 0.8092 - val_accuracy: 0.6289\n",
            "Epoch 17/100\n",
            "8/8 [==============================] - 23s 3s/step - loss: 0.4566 - accuracy: 0.7988 - val_loss: 0.6638 - val_accuracy: 0.7031\n",
            "Epoch 18/100\n",
            "8/8 [==============================] - 23s 3s/step - loss: 0.4549 - accuracy: 0.7930 - val_loss: 1.0959 - val_accuracy: 0.5781\n",
            "Epoch 19/100\n",
            "8/8 [==============================] - 21s 3s/step - loss: 0.4987 - accuracy: 0.7664 - val_loss: 0.9726 - val_accuracy: 0.6133\n",
            "Epoch 20/100\n",
            "8/8 [==============================] - 21s 3s/step - loss: 0.4553 - accuracy: 0.7964 - val_loss: 0.9755 - val_accuracy: 0.6133\n",
            "Epoch 21/100\n",
            "8/8 [==============================] - 23s 3s/step - loss: 0.4308 - accuracy: 0.7988 - val_loss: 0.8109 - val_accuracy: 0.6641\n",
            "Epoch 22/100\n",
            "8/8 [==============================] - 21s 3s/step - loss: 0.4043 - accuracy: 0.8198 - val_loss: 0.8454 - val_accuracy: 0.6953\n",
            "Epoch 23/100\n",
            "8/8 [==============================] - 21s 3s/step - loss: 0.4385 - accuracy: 0.7964 - val_loss: 1.2769 - val_accuracy: 0.5859\n",
            "Epoch 24/100\n",
            "8/8 [==============================] - 21s 3s/step - loss: 0.4573 - accuracy: 0.7920 - val_loss: 0.9145 - val_accuracy: 0.6367\n",
            "Epoch 25/100\n",
            "8/8 [==============================] - 23s 3s/step - loss: 0.3875 - accuracy: 0.8320 - val_loss: 0.9821 - val_accuracy: 0.6680\n",
            "Epoch 26/100\n",
            "8/8 [==============================] - 21s 3s/step - loss: 0.4062 - accuracy: 0.8165 - val_loss: 1.1798 - val_accuracy: 0.6172\n",
            "Epoch 27/100\n",
            "8/8 [==============================] - 21s 3s/step - loss: 0.4091 - accuracy: 0.8176 - val_loss: 1.4531 - val_accuracy: 0.5742\n",
            "Epoch 28/100\n",
            "8/8 [==============================] - 21s 3s/step - loss: 0.4237 - accuracy: 0.8120 - val_loss: 1.2182 - val_accuracy: 0.6094\n",
            "Epoch 29/100\n",
            "8/8 [==============================] - 21s 3s/step - loss: 0.3941 - accuracy: 0.8265 - val_loss: 1.5252 - val_accuracy: 0.5742\n",
            "Epoch 30/100\n",
            "8/8 [==============================] - 23s 3s/step - loss: 0.3660 - accuracy: 0.8438 - val_loss: 1.9673 - val_accuracy: 0.5312\n",
            "Epoch 31/100\n",
            "8/8 [==============================] - 23s 3s/step - loss: 0.3790 - accuracy: 0.8291 - val_loss: 1.4526 - val_accuracy: 0.5977\n",
            "Epoch 32/100\n",
            "8/8 [==============================] - 23s 3s/step - loss: 0.3534 - accuracy: 0.8369 - val_loss: 2.0415 - val_accuracy: 0.5273\n",
            "Epoch 33/100\n",
            "8/8 [==============================] - 21s 3s/step - loss: 0.3944 - accuracy: 0.8176 - val_loss: 1.6529 - val_accuracy: 0.5586\n",
            "Epoch 34/100\n",
            "8/8 [==============================] - 21s 3s/step - loss: 0.4525 - accuracy: 0.7853 - val_loss: 1.1173 - val_accuracy: 0.6016\n",
            "Epoch 35/100\n",
            "8/8 [==============================] - 21s 3s/step - loss: 0.3412 - accuracy: 0.8331 - val_loss: 1.3600 - val_accuracy: 0.5977\n",
            "Epoch 36/100\n",
            "8/8 [==============================] - 21s 3s/step - loss: 0.3152 - accuracy: 0.8643 - val_loss: 1.0393 - val_accuracy: 0.6836\n",
            "Epoch 37/100\n",
            "8/8 [==============================] - 21s 3s/step - loss: 0.3873 - accuracy: 0.8120 - val_loss: 1.0421 - val_accuracy: 0.6055\n",
            "Epoch 38/100\n",
            "8/8 [==============================] - 21s 3s/step - loss: 0.3129 - accuracy: 0.8743 - val_loss: 1.2598 - val_accuracy: 0.6250\n",
            "Epoch 39/100\n",
            "8/8 [==============================] - 21s 3s/step - loss: 0.3195 - accuracy: 0.8676 - val_loss: 2.4209 - val_accuracy: 0.5078\n",
            "Epoch 40/100\n",
            "8/8 [==============================] - 21s 3s/step - loss: 0.3742 - accuracy: 0.8398 - val_loss: 1.7252 - val_accuracy: 0.5625\n",
            "Epoch 41/100\n",
            "8/8 [==============================] - 21s 3s/step - loss: 0.2800 - accuracy: 0.8865 - val_loss: 1.4683 - val_accuracy: 0.6016\n",
            "Epoch 42/100\n",
            "8/8 [==============================] - 23s 3s/step - loss: 0.3011 - accuracy: 0.8652 - val_loss: 1.8690 - val_accuracy: 0.5664\n",
            "Epoch 43/100\n",
            "8/8 [==============================] - 21s 3s/step - loss: 0.3816 - accuracy: 0.8387 - val_loss: 2.0146 - val_accuracy: 0.5430\n",
            "Epoch 44/100\n",
            "8/8 [==============================] - 21s 3s/step - loss: 0.3027 - accuracy: 0.8654 - val_loss: 1.7095 - val_accuracy: 0.5664\n",
            "Epoch 45/100\n",
            "8/8 [==============================] - 21s 3s/step - loss: 0.3293 - accuracy: 0.8543 - val_loss: 1.4213 - val_accuracy: 0.6328\n",
            "Epoch 46/100\n",
            "8/8 [==============================] - 21s 3s/step - loss: 0.3029 - accuracy: 0.8788 - val_loss: 1.6722 - val_accuracy: 0.5742\n",
            "Epoch 47/100\n",
            "8/8 [==============================] - 21s 3s/step - loss: 0.2782 - accuracy: 0.8799 - val_loss: 1.2017 - val_accuracy: 0.6055\n",
            "Epoch 48/100\n",
            "8/8 [==============================] - 21s 3s/step - loss: 0.2700 - accuracy: 0.8932 - val_loss: 1.2413 - val_accuracy: 0.6445\n",
            "Epoch 49/100\n",
            "8/8 [==============================] - 21s 3s/step - loss: 0.2887 - accuracy: 0.8776 - val_loss: 1.5305 - val_accuracy: 0.6094\n",
            "Epoch 50/100\n",
            "8/8 [==============================] - 21s 3s/step - loss: 0.2677 - accuracy: 0.8954 - val_loss: 1.2107 - val_accuracy: 0.6562\n",
            "Epoch 51/100\n",
            "8/8 [==============================] - 21s 3s/step - loss: 0.2649 - accuracy: 0.8932 - val_loss: 3.0501 - val_accuracy: 0.5117\n",
            "Epoch 52/100\n",
            "8/8 [==============================] - 23s 3s/step - loss: 0.2663 - accuracy: 0.8838 - val_loss: 1.8890 - val_accuracy: 0.5742\n",
            "Epoch 53/100\n",
            "8/8 [==============================] - 21s 3s/step - loss: 0.2893 - accuracy: 0.8699 - val_loss: 1.2986 - val_accuracy: 0.6094\n",
            "Epoch 54/100\n",
            "8/8 [==============================] - 21s 3s/step - loss: 0.2387 - accuracy: 0.9032 - val_loss: 1.2832 - val_accuracy: 0.6484\n",
            "Epoch 55/100\n",
            "8/8 [==============================] - 21s 3s/step - loss: 0.2825 - accuracy: 0.8788 - val_loss: 2.3666 - val_accuracy: 0.5312\n",
            "Epoch 56/100\n",
            "8/8 [==============================] - 23s 3s/step - loss: 0.2361 - accuracy: 0.9053 - val_loss: 2.0533 - val_accuracy: 0.5820\n",
            "Epoch 57/100\n",
            "8/8 [==============================] - 21s 3s/step - loss: 0.2749 - accuracy: 0.8832 - val_loss: 1.9387 - val_accuracy: 0.5742\n",
            "Epoch 58/100\n",
            "8/8 [==============================] - 21s 3s/step - loss: 0.2217 - accuracy: 0.9132 - val_loss: 2.0293 - val_accuracy: 0.5859\n",
            "Epoch 59/100\n",
            "8/8 [==============================] - 21s 3s/step - loss: 0.2261 - accuracy: 0.9032 - val_loss: 1.5018 - val_accuracy: 0.6523\n",
            "Epoch 60/100\n",
            "8/8 [==============================] - 20s 3s/step - loss: 0.2653 - accuracy: 0.8776 - val_loss: 1.4757 - val_accuracy: 0.6406\n",
            "Epoch 61/100\n",
            "8/8 [==============================] - 21s 3s/step - loss: 0.3395 - accuracy: 0.8788 - val_loss: 1.5955 - val_accuracy: 0.6016\n",
            "Epoch 62/100\n",
            "8/8 [==============================] - 21s 3s/step - loss: 0.2060 - accuracy: 0.9188 - val_loss: 1.6729 - val_accuracy: 0.6211\n",
            "Epoch 63/100\n",
            "8/8 [==============================] - 21s 3s/step - loss: 0.2042 - accuracy: 0.9277 - val_loss: 1.4613 - val_accuracy: 0.6367\n",
            "Epoch 64/100\n",
            "8/8 [==============================] - 21s 3s/step - loss: 0.1837 - accuracy: 0.9266 - val_loss: 2.0843 - val_accuracy: 0.6133\n",
            "Epoch 65/100\n",
            "8/8 [==============================] - 21s 3s/step - loss: 0.4241 - accuracy: 0.8687 - val_loss: 2.0691 - val_accuracy: 0.5898\n",
            "Epoch 66/100\n",
            "8/8 [==============================] - 20s 3s/step - loss: 0.1804 - accuracy: 0.9410 - val_loss: 2.7470 - val_accuracy: 0.5469\n",
            "Epoch 67/100\n",
            "8/8 [==============================] - 23s 3s/step - loss: 0.1585 - accuracy: 0.9492 - val_loss: 2.8857 - val_accuracy: 0.5508\n",
            "Epoch 68/100\n",
            "8/8 [==============================] - 21s 3s/step - loss: 0.2550 - accuracy: 0.9032 - val_loss: 2.3026 - val_accuracy: 0.5820\n",
            "Epoch 69/100\n",
            "8/8 [==============================] - 21s 3s/step - loss: 0.1960 - accuracy: 0.9166 - val_loss: 2.0462 - val_accuracy: 0.5977\n",
            "Epoch 70/100\n",
            "8/8 [==============================] - 20s 3s/step - loss: 0.2167 - accuracy: 0.9032 - val_loss: 2.6049 - val_accuracy: 0.5625\n",
            "Epoch 71/100\n",
            "8/8 [==============================] - 21s 3s/step - loss: 0.2663 - accuracy: 0.8832 - val_loss: 1.9188 - val_accuracy: 0.5898\n",
            "Epoch 72/100\n",
            "8/8 [==============================] - 20s 3s/step - loss: 0.1886 - accuracy: 0.9177 - val_loss: 2.8620 - val_accuracy: 0.5234\n",
            "Epoch 73/100\n",
            "8/8 [==============================] - 20s 3s/step - loss: 0.2427 - accuracy: 0.8966 - val_loss: 1.4332 - val_accuracy: 0.6289\n",
            "Epoch 74/100\n",
            "8/8 [==============================] - 21s 3s/step - loss: 0.1782 - accuracy: 0.9344 - val_loss: 2.7340 - val_accuracy: 0.5547\n",
            "Epoch 75/100\n",
            "8/8 [==============================] - 23s 3s/step - loss: 0.2135 - accuracy: 0.9043 - val_loss: 1.9977 - val_accuracy: 0.5977\n",
            "Epoch 76/100\n",
            "8/8 [==============================] - 21s 3s/step - loss: 0.1484 - accuracy: 0.9522 - val_loss: 2.1680 - val_accuracy: 0.5938\n",
            "Epoch 77/100\n",
            "8/8 [==============================] - 21s 3s/step - loss: 0.2215 - accuracy: 0.9155 - val_loss: 1.8265 - val_accuracy: 0.6172\n",
            "Epoch 78/100\n",
            "8/8 [==============================] - 21s 3s/step - loss: 0.1558 - accuracy: 0.9477 - val_loss: 1.5773 - val_accuracy: 0.6680\n",
            "Epoch 79/100\n",
            "8/8 [==============================] - 21s 3s/step - loss: 0.2060 - accuracy: 0.9110 - val_loss: 2.2622 - val_accuracy: 0.5859\n",
            "Epoch 80/100\n",
            "8/8 [==============================] - 21s 3s/step - loss: 0.2054 - accuracy: 0.9199 - val_loss: 1.3710 - val_accuracy: 0.6484\n",
            "Epoch 81/100\n",
            "8/8 [==============================] - 21s 3s/step - loss: 0.1833 - accuracy: 0.9232 - val_loss: 2.1378 - val_accuracy: 0.6016\n",
            "Epoch 82/100\n",
            "8/8 [==============================] - 21s 3s/step - loss: 0.2005 - accuracy: 0.9166 - val_loss: 1.8047 - val_accuracy: 0.6211\n",
            "Epoch 83/100\n",
            "8/8 [==============================] - 21s 3s/step - loss: 0.1549 - accuracy: 0.9522 - val_loss: 2.1971 - val_accuracy: 0.6094\n",
            "Epoch 84/100\n",
            "8/8 [==============================] - 21s 3s/step - loss: 0.1500 - accuracy: 0.9466 - val_loss: 1.5952 - val_accuracy: 0.6836\n",
            "Epoch 85/100\n",
            "8/8 [==============================] - 21s 3s/step - loss: 0.3057 - accuracy: 0.8687 - val_loss: 2.1320 - val_accuracy: 0.6172\n",
            "Epoch 86/100\n",
            "8/8 [==============================] - 21s 3s/step - loss: 0.1414 - accuracy: 0.9444 - val_loss: 2.0993 - val_accuracy: 0.6250\n",
            "Epoch 87/100\n",
            "8/8 [==============================] - 21s 3s/step - loss: 0.1329 - accuracy: 0.9577 - val_loss: 2.1097 - val_accuracy: 0.6328\n",
            "Epoch 88/100\n",
            "8/8 [==============================] - 21s 3s/step - loss: 0.1491 - accuracy: 0.9455 - val_loss: 2.3277 - val_accuracy: 0.6172\n",
            "Epoch 89/100\n",
            "8/8 [==============================] - 23s 3s/step - loss: 0.1516 - accuracy: 0.9463 - val_loss: 0.7662 - val_accuracy: 0.7852\n",
            "Epoch 90/100\n",
            "8/8 [==============================] - 20s 3s/step - loss: 0.1891 - accuracy: 0.9155 - val_loss: 1.8796 - val_accuracy: 0.6406\n",
            "Epoch 91/100\n",
            "8/8 [==============================] - 21s 3s/step - loss: 0.2086 - accuracy: 0.9077 - val_loss: 2.1320 - val_accuracy: 0.6094\n",
            "Epoch 92/100\n",
            "8/8 [==============================] - 23s 3s/step - loss: 0.1377 - accuracy: 0.9443 - val_loss: 2.2651 - val_accuracy: 0.6328\n",
            "Epoch 93/100\n",
            "8/8 [==============================] - 20s 3s/step - loss: 0.1673 - accuracy: 0.9333 - val_loss: 2.7118 - val_accuracy: 0.6016\n",
            "Epoch 94/100\n",
            "8/8 [==============================] - 20s 3s/step - loss: 0.2194 - accuracy: 0.9088 - val_loss: 1.6793 - val_accuracy: 0.6016\n",
            "Epoch 95/100\n",
            "8/8 [==============================] - 20s 3s/step - loss: 0.1287 - accuracy: 0.9600 - val_loss: 2.3793 - val_accuracy: 0.5898\n",
            "Epoch 96/100\n",
            "8/8 [==============================] - 21s 3s/step - loss: 0.3151 - accuracy: 0.8943 - val_loss: 2.4142 - val_accuracy: 0.5859\n",
            "Epoch 97/100\n",
            "8/8 [==============================] - 21s 3s/step - loss: 0.1282 - accuracy: 0.9566 - val_loss: 2.4872 - val_accuracy: 0.6016\n",
            "Epoch 98/100\n",
            "8/8 [==============================] - 21s 3s/step - loss: 0.1762 - accuracy: 0.9344 - val_loss: 2.3299 - val_accuracy: 0.5938\n",
            "Epoch 99/100\n",
            "8/8 [==============================] - 21s 3s/step - loss: 0.1289 - accuracy: 0.9555 - val_loss: 2.4415 - val_accuracy: 0.6133\n",
            "Epoch 100/100\n",
            "8/8 [==============================] - 23s 3s/step - loss: 0.1320 - accuracy: 0.9541 - val_loss: 2.2546 - val_accuracy: 0.6328\n"
          ],
          "name": "stdout"
        }
      ]
    },
    {
      "cell_type": "code",
      "metadata": {
        "colab": {
          "base_uri": "https://localhost:8080/",
          "height": 545
        },
        "id": "7zNPRWOVJdOH",
        "outputId": "ad8947b9-db98-4c6e-8280-5fb051bb1109"
      },
      "source": [
        "import matplotlib.pyplot as plt\n",
        "acc = history.history['accuracy']\n",
        "val_acc = history.history['val_accuracy']\n",
        "loss = history.history['loss']\n",
        "val_loss = history.history['val_loss']\n",
        "\n",
        "epochs = range(len(acc))\n",
        "\n",
        "plt.plot(epochs, acc, 'r', label='Training accuracy')\n",
        "plt.plot(epochs, val_acc, 'b', label='Validation accuracy')\n",
        "plt.title('Training and validation accuracy')\n",
        "\n",
        "plt.figure()\n",
        "\n",
        "plt.plot(epochs, loss, 'r', label='Training Loss')\n",
        "plt.plot(epochs, val_loss, 'b', label='Validation Loss')\n",
        "plt.title('Training and validation loss')\n",
        "plt.legend()\n",
        "\n",
        "plt.show()"
      ],
      "execution_count": 7,
      "outputs": [
        {
          "output_type": "display_data",
          "data": {
            "image/png": "[encoded data removed]",
            "text/plain": [
              "<Figure size 432x288 with 1 Axes>"
            ]
          },
          "metadata": {
            "tags": [],
            "needs_background": "light"
          }
        },
        {
          "output_type": "display_data",
          "data": {
            "image/png": "[encoded data removed]",
            "text/plain": [
              "<Figure size 432x288 with 1 Axes>"
            ]
          },
          "metadata": {
            "tags": [],
            "needs_background": "light"
          }
        }
      ]
    },
    {
      "cell_type": "code",
      "metadata": {
        "id": "Nj1HJXdAoK4Z"
      },
      "source": [
        ""
      ],
      "execution_count": null,
      "outputs": []
    }
  ]
}