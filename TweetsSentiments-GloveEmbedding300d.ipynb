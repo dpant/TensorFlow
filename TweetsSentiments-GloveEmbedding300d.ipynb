{
  "nbformat": 4,
  "nbformat_minor": 0,
  "metadata": {
    "kernelspec": {
      "language": "python",
      "display_name": "Python 3",
      "name": "python3"
    },
    "language_info": {
      "name": "python",
      "version": "3.7.10",
      "mimetype": "text/x-python",
      "codemirror_mode": {
        "name": "ipython",
        "version": 3
      },
      "pygments_lexer": "ipython3",
      "nbconvert_exporter": "python",
      "file_extension": ".py"
    },
    "colab": {
      "name": "classify-tweets-with-cnn-rnn-lstm-word-embedding.ipynb",
      "provenance": [],
      "include_colab_link": true
    },
    "accelerator": "GPU"
  },
  "cells": [
    {
      "cell_type": "markdown",
      "metadata": {
        "id": "view-in-github",
        "colab_type": "text"
      },
      "source": [
        "<a href=\"https://colab.research.google.com/github/dpant/TensorFlow/blob/main/TweetsSentiments-GloveEmbedding300d.ipynb\" target=\"_parent\"><img src=\"https://colab.research.google.com/assets/colab-badge.svg\" alt=\"Open In Colab\"/></a>"
      ]
    },
    {
      "cell_type": "code",
      "metadata": {
        "execution": {
          "iopub.status.busy": "2021-07-14T21:44:06.221336Z",
          "iopub.status.idle": "2021-07-14T21:44:06.221889Z"
        },
        "trusted": true,
        "colab": {
          "base_uri": "https://localhost:8080/"
        },
        "id": "IMQnL2Py_D8p",
        "outputId": "966b7c81-f53f-4350-95d9-8b618818406f"
      },
      "source": [
        "import pandas as pd\n",
        "import numpy as np\n",
        "from matplotlib import pyplot as plt\n",
        "\n",
        "import nltk\n",
        "nltk.download('book')\n",
        "\n",
        "from nltk.corpus import stopwords\n",
        "from nltk.stem import WordNetLemmatizer\n",
        "\n",
        "import tensorflow as tf\n",
        "import sklearn\n",
        "\n",
        "import codecs\n",
        "from tqdm import tqdm"
      ],
      "execution_count": 2,
      "outputs": [
        {
          "output_type": "stream",
          "text": [
            "[nltk_data] Downloading collection 'book'\n",
            "[nltk_data]    | \n",
            "[nltk_data]    | Downloading package abc to /root/nltk_data...\n",
            "[nltk_data]    |   Unzipping corpora/abc.zip.\n",
            "[nltk_data]    | Downloading package brown to /root/nltk_data...\n",
            "[nltk_data]    |   Unzipping corpora/brown.zip.\n",
            "[nltk_data]    | Downloading package chat80 to /root/nltk_data...\n",
            "[nltk_data]    |   Unzipping corpora/chat80.zip.\n",
            "[nltk_data]    | Downloading package cmudict to /root/nltk_data...\n",
            "[nltk_data]    |   Unzipping corpora/cmudict.zip.\n",
            "[nltk_data]    | Downloading package conll2000 to /root/nltk_data...\n",
            "[nltk_data]    |   Unzipping corpora/conll2000.zip.\n",
            "[nltk_data]    | Downloading package conll2002 to /root/nltk_data...\n",
            "[nltk_data]    |   Unzipping corpora/conll2002.zip.\n",
            "[nltk_data]    | Downloading package dependency_treebank to\n",
            "[nltk_data]    |     /root/nltk_data...\n",
            "[nltk_data]    |   Unzipping corpora/dependency_treebank.zip.\n",
            "[nltk_data]    | Downloading package genesis to /root/nltk_data...\n",
            "[nltk_data]    |   Unzipping corpora/genesis.zip.\n",
            "[nltk_data]    | Downloading package gutenberg to /root/nltk_data...\n",
            "[nltk_data]    |   Unzipping corpora/gutenberg.zip.\n",
            "[nltk_data]    | Downloading package ieer to /root/nltk_data...\n",
            "[nltk_data]    |   Unzipping corpora/ieer.zip.\n",
            "[nltk_data]    | Downloading package inaugural to /root/nltk_data...\n",
            "[nltk_data]    |   Unzipping corpora/inaugural.zip.\n",
            "[nltk_data]    | Downloading package movie_reviews to\n",
            "[nltk_data]    |     /root/nltk_data...\n",
            "[nltk_data]    |   Unzipping corpora/movie_reviews.zip.\n",
            "[nltk_data]    | Downloading package nps_chat to /root/nltk_data...\n",
            "[nltk_data]    |   Unzipping corpora/nps_chat.zip.\n",
            "[nltk_data]    | Downloading package names to /root/nltk_data...\n",
            "[nltk_data]    |   Unzipping corpora/names.zip.\n",
            "[nltk_data]    | Downloading package ppattach to /root/nltk_data...\n",
            "[nltk_data]    |   Unzipping corpora/ppattach.zip.\n",
            "[nltk_data]    | Downloading package reuters to /root/nltk_data...\n",
            "[nltk_data]    | Downloading package senseval to /root/nltk_data...\n",
            "[nltk_data]    |   Unzipping corpora/senseval.zip.\n",
            "[nltk_data]    | Downloading package state_union to /root/nltk_data...\n",
            "[nltk_data]    |   Unzipping corpora/state_union.zip.\n",
            "[nltk_data]    | Downloading package stopwords to /root/nltk_data...\n",
            "[nltk_data]    |   Unzipping corpora/stopwords.zip.\n",
            "[nltk_data]    | Downloading package swadesh to /root/nltk_data...\n",
            "[nltk_data]    |   Unzipping corpora/swadesh.zip.\n",
            "[nltk_data]    | Downloading package timit to /root/nltk_data...\n",
            "[nltk_data]    |   Unzipping corpora/timit.zip.\n",
            "[nltk_data]    | Downloading package treebank to /root/nltk_data...\n",
            "[nltk_data]    |   Unzipping corpora/treebank.zip.\n",
            "[nltk_data]    | Downloading package toolbox to /root/nltk_data...\n",
            "[nltk_data]    |   Unzipping corpora/toolbox.zip.\n",
            "[nltk_data]    | Downloading package udhr to /root/nltk_data...\n",
            "[nltk_data]    |   Unzipping corpora/udhr.zip.\n",
            "[nltk_data]    | Downloading package udhr2 to /root/nltk_data...\n",
            "[nltk_data]    |   Unzipping corpora/udhr2.zip.\n",
            "[nltk_data]    | Downloading package unicode_samples to\n",
            "[nltk_data]    |     /root/nltk_data...\n",
            "[nltk_data]    |   Unzipping corpora/unicode_samples.zip.\n",
            "[nltk_data]    | Downloading package webtext to /root/nltk_data...\n",
            "[nltk_data]    |   Unzipping corpora/webtext.zip.\n",
            "[nltk_data]    | Downloading package wordnet to /root/nltk_data...\n",
            "[nltk_data]    |   Unzipping corpora/wordnet.zip.\n",
            "[nltk_data]    | Downloading package wordnet_ic to /root/nltk_data...\n",
            "[nltk_data]    |   Unzipping corpora/wordnet_ic.zip.\n",
            "[nltk_data]    | Downloading package words to /root/nltk_data...\n",
            "[nltk_data]    |   Unzipping corpora/words.zip.\n",
            "[nltk_data]    | Downloading package maxent_treebank_pos_tagger to\n",
            "[nltk_data]    |     /root/nltk_data...\n",
            "[nltk_data]    |   Unzipping taggers/maxent_treebank_pos_tagger.zip.\n",
            "[nltk_data]    | Downloading package maxent_ne_chunker to\n",
            "[nltk_data]    |     /root/nltk_data...\n",
            "[nltk_data]    |   Unzipping chunkers/maxent_ne_chunker.zip.\n",
            "[nltk_data]    | Downloading package universal_tagset to\n",
            "[nltk_data]    |     /root/nltk_data...\n",
            "[nltk_data]    |   Unzipping taggers/universal_tagset.zip.\n",
            "[nltk_data]    | Downloading package punkt to /root/nltk_data...\n",
            "[nltk_data]    |   Unzipping tokenizers/punkt.zip.\n",
            "[nltk_data]    | Downloading package book_grammars to\n",
            "[nltk_data]    |     /root/nltk_data...\n",
            "[nltk_data]    |   Unzipping grammars/book_grammars.zip.\n",
            "[nltk_data]    | Downloading package city_database to\n",
            "[nltk_data]    |     /root/nltk_data...\n",
            "[nltk_data]    |   Unzipping corpora/city_database.zip.\n",
            "[nltk_data]    | Downloading package tagsets to /root/nltk_data...\n",
            "[nltk_data]    |   Unzipping help/tagsets.zip.\n",
            "[nltk_data]    | Downloading package panlex_swadesh to\n",
            "[nltk_data]    |     /root/nltk_data...\n",
            "[nltk_data]    | Downloading package averaged_perceptron_tagger to\n",
            "[nltk_data]    |     /root/nltk_data...\n",
            "[nltk_data]    |   Unzipping taggers/averaged_perceptron_tagger.zip.\n",
            "[nltk_data]    | \n",
            "[nltk_data]  Done downloading collection book\n"
          ],
          "name": "stdout"
        }
      ]
    },
    {
      "cell_type": "markdown",
      "metadata": {
        "id": "jYUIuXb2_pFf"
      },
      "source": [
        ""
      ]
    },
    {
      "cell_type": "code",
      "metadata": {
        "colab": {
          "base_uri": "https://localhost:8080/"
        },
        "id": "bM0l_dORKqE0",
        "outputId": "b8fe3a3f-b928-4ef4-e5f2-963a25a3be9d"
      },
      "source": [
        "# Note that I cleaned the Stanford dataset to remove LATIN1 encoding to make it easier for Python CSV reader\n",
        "# You can do that yourself with:\n",
        "# iconv -f LATIN1 -t UTF8 training.1600000.processed.noemoticon.csv -o training_cleaned.csv\n",
        "# I then hosted it on my site to make it easier to use in this notebook\n",
        "\n",
        "!wget --no-check-certificate \\\n",
        "    https://storage.googleapis.com/laurencemoroney-blog.appspot.com/training_cleaned.csv \\\n",
        "    -O /tmp/training_cleaned.csv\n",
        "\n"
      ],
      "execution_count": 3,
      "outputs": [
        {
          "output_type": "stream",
          "text": [
            "--2021-07-15 22:20:14--  https://storage.googleapis.com/laurencemoroney-blog.appspot.com/training_cleaned.csv\n",
            "Resolving storage.googleapis.com (storage.googleapis.com)... 173.194.69.128, 108.177.119.128, 108.177.126.128, ...\n",
            "Connecting to storage.googleapis.com (storage.googleapis.com)|173.194.69.128|:443... connected.\n",
            "HTTP request sent, awaiting response... 200 OK\n",
            "Length: 238942690 (228M) [application/octet-stream]\n",
            "Saving to: ‘/tmp/training_cleaned.csv’\n",
            "\n",
            "/tmp/training_clean 100%[===================>] 227.87M  62.8MB/s    in 3.6s    \n",
            "\n",
            "2021-07-15 22:20:18 (62.8 MB/s) - ‘/tmp/training_cleaned.csv’ saved [238942690/238942690]\n",
            "\n"
          ],
          "name": "stdout"
        }
      ]
    },
    {
      "cell_type": "code",
      "metadata": {
        "execution": {
          "iopub.status.busy": "2021-07-14T21:44:06.223209Z",
          "iopub.status.idle": "2021-07-14T21:44:06.223652Z"
        },
        "trusted": true,
        "id": "8W7rgvdR_D8r"
      },
      "source": [
        "raw = pd.read_csv('/tmp/training_cleaned.csv', header=None)"
      ],
      "execution_count": 4,
      "outputs": []
    },
    {
      "cell_type": "code",
      "metadata": {
        "execution": {
          "iopub.status.busy": "2021-07-14T21:44:06.230368Z",
          "iopub.status.idle": "2021-07-14T21:44:06.230810Z"
        },
        "trusted": true,
        "colab": {
          "base_uri": "https://localhost:8080/",
          "height": 206
        },
        "id": "rvzuCsRc_D8s",
        "outputId": "d927d517-7c42-4cc5-cec5-410bd8e40666"
      },
      "source": [
        "raw.head()"
      ],
      "execution_count": 5,
      "outputs": [
        {
          "output_type": "execute_result",
          "data": {
            "text/html": [
              "<div>\n",
              "<style scoped>\n",
              "    .dataframe tbody tr th:only-of-type {\n",
              "        vertical-align: middle;\n",
              "    }\n",
              "\n",
              "    .dataframe tbody tr th {\n",
              "        vertical-align: top;\n",
              "    }\n",
              "\n",
              "    .dataframe thead th {\n",
              "        text-align: right;\n",
              "    }\n",
              "</style>\n",
              "<table border=\"1\" class=\"dataframe\">\n",
              "  <thead>\n",
              "    <tr style=\"text-align: right;\">\n",
              "      <th></th>\n",
              "      <th>0</th>\n",
              "      <th>1</th>\n",
              "      <th>2</th>\n",
              "      <th>3</th>\n",
              "      <th>4</th>\n",
              "      <th>5</th>\n",
              "    </tr>\n",
              "  </thead>\n",
              "  <tbody>\n",
              "    <tr>\n",
              "      <th>0</th>\n",
              "      <td>0</td>\n",
              "      <td>1467810369</td>\n",
              "      <td>Mon Apr 06 22:19:45 PDT 2009</td>\n",
              "      <td>NO_QUERY</td>\n",
              "      <td>_TheSpecialOne_</td>\n",
              "      <td>@switchfoot http://twitpic.com/2y1zl - Awww, t...</td>\n",
              "    </tr>\n",
              "    <tr>\n",
              "      <th>1</th>\n",
              "      <td>0</td>\n",
              "      <td>1467810672</td>\n",
              "      <td>Mon Apr 06 22:19:49 PDT 2009</td>\n",
              "      <td>NO_QUERY</td>\n",
              "      <td>scotthamilton</td>\n",
              "      <td>is upset that he can't update his Facebook by ...</td>\n",
              "    </tr>\n",
              "    <tr>\n",
              "      <th>2</th>\n",
              "      <td>0</td>\n",
              "      <td>1467810917</td>\n",
              "      <td>Mon Apr 06 22:19:53 PDT 2009</td>\n",
              "      <td>NO_QUERY</td>\n",
              "      <td>mattycus</td>\n",
              "      <td>@Kenichan I dived many times for the ball. Man...</td>\n",
              "    </tr>\n",
              "    <tr>\n",
              "      <th>3</th>\n",
              "      <td>0</td>\n",
              "      <td>1467811184</td>\n",
              "      <td>Mon Apr 06 22:19:57 PDT 2009</td>\n",
              "      <td>NO_QUERY</td>\n",
              "      <td>ElleCTF</td>\n",
              "      <td>my whole body feels itchy and like its on fire</td>\n",
              "    </tr>\n",
              "    <tr>\n",
              "      <th>4</th>\n",
              "      <td>0</td>\n",
              "      <td>1467811193</td>\n",
              "      <td>Mon Apr 06 22:19:57 PDT 2009</td>\n",
              "      <td>NO_QUERY</td>\n",
              "      <td>Karoli</td>\n",
              "      <td>@nationwideclass no, it's not behaving at all....</td>\n",
              "    </tr>\n",
              "  </tbody>\n",
              "</table>\n",
              "</div>"
            ],
            "text/plain": [
              "   0  ...                                                  5\n",
              "0  0  ...  @switchfoot http://twitpic.com/2y1zl - Awww, t...\n",
              "1  0  ...  is upset that he can't update his Facebook by ...\n",
              "2  0  ...  @Kenichan I dived many times for the ball. Man...\n",
              "3  0  ...    my whole body feels itchy and like its on fire \n",
              "4  0  ...  @nationwideclass no, it's not behaving at all....\n",
              "\n",
              "[5 rows x 6 columns]"
            ]
          },
          "metadata": {
            "tags": []
          },
          "execution_count": 5
        }
      ]
    },
    {
      "cell_type": "markdown",
      "metadata": {
        "id": "1Qff6UEu_D8s"
      },
      "source": [
        "## Sampling raw dataset"
      ]
    },
    {
      "cell_type": "code",
      "metadata": {
        "execution": {
          "iopub.status.busy": "2021-07-14T21:44:06.231979Z",
          "iopub.status.idle": "2021-07-14T21:44:06.232669Z"
        },
        "trusted": true,
        "id": "vr2j63Ia_D8s"
      },
      "source": [
        "def stratified_sample_df(df, col, n_samples):\n",
        "    n = min(n_samples, df[col].value_counts().min())\n",
        "    df_ = df.groupby(col).apply(lambda x: x.sample(n))\n",
        "    df_.index = df_.index.droplevel(0)\n",
        "    return df_"
      ],
      "execution_count": 6,
      "outputs": []
    },
    {
      "cell_type": "code",
      "metadata": {
        "execution": {
          "iopub.status.busy": "2021-07-14T21:44:06.238470Z",
          "iopub.status.idle": "2021-07-14T21:44:06.239108Z"
        },
        "trusted": true,
        "colab": {
          "base_uri": "https://localhost:8080/",
          "height": 423
        },
        "id": "XfvHtfAT_D8t",
        "outputId": "a9b780a5-e7ca-4954-e6f0-738c21ae9999"
      },
      "source": [
        "df = stratified_sample_df(raw, 0, 100000).reset_index(drop=True)\n",
        "df"
      ],
      "execution_count": 7,
      "outputs": [
        {
          "output_type": "execute_result",
          "data": {
            "text/html": [
              "<div>\n",
              "<style scoped>\n",
              "    .dataframe tbody tr th:only-of-type {\n",
              "        vertical-align: middle;\n",
              "    }\n",
              "\n",
              "    .dataframe tbody tr th {\n",
              "        vertical-align: top;\n",
              "    }\n",
              "\n",
              "    .dataframe thead th {\n",
              "        text-align: right;\n",
              "    }\n",
              "</style>\n",
              "<table border=\"1\" class=\"dataframe\">\n",
              "  <thead>\n",
              "    <tr style=\"text-align: right;\">\n",
              "      <th></th>\n",
              "      <th>0</th>\n",
              "      <th>1</th>\n",
              "      <th>2</th>\n",
              "      <th>3</th>\n",
              "      <th>4</th>\n",
              "      <th>5</th>\n",
              "    </tr>\n",
              "  </thead>\n",
              "  <tbody>\n",
              "    <tr>\n",
              "      <th>0</th>\n",
              "      <td>0</td>\n",
              "      <td>2257030907</td>\n",
              "      <td>Sat Jun 20 13:41:08 PDT 2009</td>\n",
              "      <td>NO_QUERY</td>\n",
              "      <td>jan1e93</td>\n",
              "      <td>@FaridahF 3 DAYS!!!thats too long  i have to b...</td>\n",
              "    </tr>\n",
              "    <tr>\n",
              "      <th>1</th>\n",
              "      <td>0</td>\n",
              "      <td>1990112038</td>\n",
              "      <td>Mon Jun 01 03:55:10 PDT 2009</td>\n",
              "      <td>NO_QUERY</td>\n",
              "      <td>layamaria</td>\n",
              "      <td>confesses that she doesn't know how to cook  h...</td>\n",
              "    </tr>\n",
              "    <tr>\n",
              "      <th>2</th>\n",
              "      <td>0</td>\n",
              "      <td>1974924097</td>\n",
              "      <td>Sat May 30 14:05:14 PDT 2009</td>\n",
              "      <td>NO_QUERY</td>\n",
              "      <td>jonas_lover24</td>\n",
              "      <td>i am sooo nervous today..uhh i just wanna go h...</td>\n",
              "    </tr>\n",
              "    <tr>\n",
              "      <th>3</th>\n",
              "      <td>0</td>\n",
              "      <td>1977783101</td>\n",
              "      <td>Sat May 30 21:42:02 PDT 2009</td>\n",
              "      <td>NO_QUERY</td>\n",
              "      <td>NCStoked</td>\n",
              "      <td>Saying goodnight is the hardest part..</td>\n",
              "    </tr>\n",
              "    <tr>\n",
              "      <th>4</th>\n",
              "      <td>0</td>\n",
              "      <td>2215424082</td>\n",
              "      <td>Wed Jun 17 18:07:16 PDT 2009</td>\n",
              "      <td>NO_QUERY</td>\n",
              "      <td>pitbull808</td>\n",
              "      <td>Shopping with a GF... All I can think..there g...</td>\n",
              "    </tr>\n",
              "    <tr>\n",
              "      <th>...</th>\n",
              "      <td>...</td>\n",
              "      <td>...</td>\n",
              "      <td>...</td>\n",
              "      <td>...</td>\n",
              "      <td>...</td>\n",
              "      <td>...</td>\n",
              "    </tr>\n",
              "    <tr>\n",
              "      <th>199995</th>\n",
              "      <td>4</td>\n",
              "      <td>1990279187</td>\n",
              "      <td>Mon Jun 01 04:25:18 PDT 2009</td>\n",
              "      <td>NO_QUERY</td>\n",
              "      <td>lavapiez</td>\n",
              "      <td>@DavidArchie but i did watch all of your guest...</td>\n",
              "    </tr>\n",
              "    <tr>\n",
              "      <th>199996</th>\n",
              "      <td>4</td>\n",
              "      <td>1933060035</td>\n",
              "      <td>Tue May 26 22:53:38 PDT 2009</td>\n",
              "      <td>NO_QUERY</td>\n",
              "      <td>sorchamorrigan</td>\n",
              "      <td>@PegasusAngel @dannysgirlsg1 &amp;quot;Good mornin...</td>\n",
              "    </tr>\n",
              "    <tr>\n",
              "      <th>199997</th>\n",
              "      <td>4</td>\n",
              "      <td>2055743560</td>\n",
              "      <td>Sat Jun 06 09:52:34 PDT 2009</td>\n",
              "      <td>NO_QUERY</td>\n",
              "      <td>iluvjbs</td>\n",
              "      <td>going away on holiday</td>\n",
              "    </tr>\n",
              "    <tr>\n",
              "      <th>199998</th>\n",
              "      <td>4</td>\n",
              "      <td>1997030058</td>\n",
              "      <td>Mon Jun 01 16:07:38 PDT 2009</td>\n",
              "      <td>NO_QUERY</td>\n",
              "      <td>Stassi09</td>\n",
              "      <td>@MizzSexiiBaby thx for the twesent bestie!!!</td>\n",
              "    </tr>\n",
              "    <tr>\n",
              "      <th>199999</th>\n",
              "      <td>4</td>\n",
              "      <td>1932981876</td>\n",
              "      <td>Tue May 26 22:41:29 PDT 2009</td>\n",
              "      <td>NO_QUERY</td>\n",
              "      <td>superhumanm0r0n</td>\n",
              "      <td>i have the urge to watch holes. and last weeks...</td>\n",
              "    </tr>\n",
              "  </tbody>\n",
              "</table>\n",
              "<p>200000 rows × 6 columns</p>\n",
              "</div>"
            ],
            "text/plain": [
              "        0  ...                                                  5\n",
              "0       0  ...  @FaridahF 3 DAYS!!!thats too long  i have to b...\n",
              "1       0  ...  confesses that she doesn't know how to cook  h...\n",
              "2       0  ...  i am sooo nervous today..uhh i just wanna go h...\n",
              "3       0  ...            Saying goodnight is the hardest part.. \n",
              "4       0  ...  Shopping with a GF... All I can think..there g...\n",
              "...    ..  ...                                                ...\n",
              "199995  4  ...  @DavidArchie but i did watch all of your guest...\n",
              "199996  4  ...  @PegasusAngel @dannysgirlsg1 &quot;Good mornin...\n",
              "199997  4  ...                             going away on holiday \n",
              "199998  4  ...      @MizzSexiiBaby thx for the twesent bestie!!! \n",
              "199999  4  ...  i have the urge to watch holes. and last weeks...\n",
              "\n",
              "[200000 rows x 6 columns]"
            ]
          },
          "metadata": {
            "tags": []
          },
          "execution_count": 7
        }
      ]
    },
    {
      "cell_type": "markdown",
      "metadata": {
        "id": "P04HObeb_D8t"
      },
      "source": [
        "## Cleaning dataset"
      ]
    },
    {
      "cell_type": "code",
      "metadata": {
        "execution": {
          "iopub.status.busy": "2021-07-14T21:44:12.966633Z",
          "iopub.execute_input": "2021-07-14T21:44:12.967351Z",
          "iopub.status.idle": "2021-07-14T21:44:12.982290Z",
          "shell.execute_reply.started": "2021-07-14T21:44:12.967297Z",
          "shell.execute_reply": "2021-07-14T21:44:12.980886Z"
        },
        "trusted": true,
        "id": "dwF19ZxC_D8t"
      },
      "source": [
        "df.rename(columns = {0:'target', 5:'text'}, inplace = True)"
      ],
      "execution_count": 8,
      "outputs": []
    },
    {
      "cell_type": "code",
      "metadata": {
        "execution": {
          "iopub.status.busy": "2021-07-10T16:57:00.257712Z",
          "iopub.execute_input": "2021-07-10T16:57:00.258093Z",
          "iopub.status.idle": "2021-07-10T16:57:00.276854Z",
          "shell.execute_reply.started": "2021-07-10T16:57:00.258054Z",
          "shell.execute_reply": "2021-07-10T16:57:00.275669Z"
        },
        "trusted": true,
        "id": "4G42pVN1_D8u"
      },
      "source": [
        "df = df.drop([1, 2, 3, 4], axis=1)"
      ],
      "execution_count": 9,
      "outputs": []
    },
    {
      "cell_type": "code",
      "metadata": {
        "execution": {
          "iopub.status.busy": "2021-07-10T16:57:00.279404Z",
          "iopub.execute_input": "2021-07-10T16:57:00.279698Z",
          "iopub.status.idle": "2021-07-10T16:57:00.294091Z",
          "shell.execute_reply.started": "2021-07-10T16:57:00.27967Z",
          "shell.execute_reply": "2021-07-10T16:57:00.293283Z"
        },
        "trusted": true,
        "colab": {
          "base_uri": "https://localhost:8080/",
          "height": 206
        },
        "id": "R_l55v___D8u",
        "outputId": "8a3c5211-f6e2-4e25-d620-f622d63117f4"
      },
      "source": [
        "df.head()"
      ],
      "execution_count": 10,
      "outputs": [
        {
          "output_type": "execute_result",
          "data": {
            "text/html": [
              "<div>\n",
              "<style scoped>\n",
              "    .dataframe tbody tr th:only-of-type {\n",
              "        vertical-align: middle;\n",
              "    }\n",
              "\n",
              "    .dataframe tbody tr th {\n",
              "        vertical-align: top;\n",
              "    }\n",
              "\n",
              "    .dataframe thead th {\n",
              "        text-align: right;\n",
              "    }\n",
              "</style>\n",
              "<table border=\"1\" class=\"dataframe\">\n",
              "  <thead>\n",
              "    <tr style=\"text-align: right;\">\n",
              "      <th></th>\n",
              "      <th>target</th>\n",
              "      <th>text</th>\n",
              "    </tr>\n",
              "  </thead>\n",
              "  <tbody>\n",
              "    <tr>\n",
              "      <th>0</th>\n",
              "      <td>0</td>\n",
              "      <td>@FaridahF 3 DAYS!!!thats too long  i have to b...</td>\n",
              "    </tr>\n",
              "    <tr>\n",
              "      <th>1</th>\n",
              "      <td>0</td>\n",
              "      <td>confesses that she doesn't know how to cook  h...</td>\n",
              "    </tr>\n",
              "    <tr>\n",
              "      <th>2</th>\n",
              "      <td>0</td>\n",
              "      <td>i am sooo nervous today..uhh i just wanna go h...</td>\n",
              "    </tr>\n",
              "    <tr>\n",
              "      <th>3</th>\n",
              "      <td>0</td>\n",
              "      <td>Saying goodnight is the hardest part..</td>\n",
              "    </tr>\n",
              "    <tr>\n",
              "      <th>4</th>\n",
              "      <td>0</td>\n",
              "      <td>Shopping with a GF... All I can think..there g...</td>\n",
              "    </tr>\n",
              "  </tbody>\n",
              "</table>\n",
              "</div>"
            ],
            "text/plain": [
              "   target                                               text\n",
              "0       0  @FaridahF 3 DAYS!!!thats too long  i have to b...\n",
              "1       0  confesses that she doesn't know how to cook  h...\n",
              "2       0  i am sooo nervous today..uhh i just wanna go h...\n",
              "3       0            Saying goodnight is the hardest part.. \n",
              "4       0  Shopping with a GF... All I can think..there g..."
            ]
          },
          "metadata": {
            "tags": []
          },
          "execution_count": 10
        }
      ]
    },
    {
      "cell_type": "markdown",
      "metadata": {
        "id": "1286KEYE_D8u"
      },
      "source": [
        "## Pre-proccessing text"
      ]
    },
    {
      "cell_type": "code",
      "metadata": {
        "execution": {
          "iopub.status.busy": "2021-07-10T16:57:00.296092Z",
          "iopub.execute_input": "2021-07-10T16:57:00.296692Z",
          "iopub.status.idle": "2021-07-10T16:57:00.310657Z",
          "shell.execute_reply.started": "2021-07-10T16:57:00.296662Z",
          "shell.execute_reply": "2021-07-10T16:57:00.309791Z"
        },
        "trusted": true,
        "id": "QB0htN2E_D8v"
      },
      "source": [
        "df_preprocess = df.copy()"
      ],
      "execution_count": 11,
      "outputs": []
    },
    {
      "cell_type": "code",
      "metadata": {
        "execution": {
          "iopub.status.busy": "2021-07-10T16:57:00.312144Z",
          "iopub.execute_input": "2021-07-10T16:57:00.312834Z",
          "iopub.status.idle": "2021-07-10T16:57:00.322729Z",
          "shell.execute_reply.started": "2021-07-10T16:57:00.312802Z",
          "shell.execute_reply": "2021-07-10T16:57:00.321979Z"
        },
        "trusted": true,
        "id": "_gsuPeBQ_D8v"
      },
      "source": [
        "tweets = df_preprocess.text.copy()"
      ],
      "execution_count": 12,
      "outputs": []
    },
    {
      "cell_type": "code",
      "metadata": {
        "execution": {
          "iopub.status.busy": "2021-07-10T16:57:00.324362Z",
          "iopub.execute_input": "2021-07-10T16:57:00.324862Z",
          "iopub.status.idle": "2021-07-10T16:57:00.338643Z",
          "shell.execute_reply.started": "2021-07-10T16:57:00.32483Z",
          "shell.execute_reply": "2021-07-10T16:57:00.337849Z"
        },
        "trusted": true,
        "colab": {
          "base_uri": "https://localhost:8080/"
        },
        "id": "T81oW2q2_D8v",
        "outputId": "390280a5-09ad-4a64-97ee-1dfe38540dea"
      },
      "source": [
        "tweets"
      ],
      "execution_count": 13,
      "outputs": [
        {
          "output_type": "execute_result",
          "data": {
            "text/plain": [
              "0         @FaridahF 3 DAYS!!!thats too long  i have to b...\n",
              "1         confesses that she doesn't know how to cook  h...\n",
              "2         i am sooo nervous today..uhh i just wanna go h...\n",
              "3                   Saying goodnight is the hardest part.. \n",
              "4         Shopping with a GF... All I can think..there g...\n",
              "                                ...                        \n",
              "199995    @DavidArchie but i did watch all of your guest...\n",
              "199996    @PegasusAngel @dannysgirlsg1 &quot;Good mornin...\n",
              "199997                               going away on holiday \n",
              "199998        @MizzSexiiBaby thx for the twesent bestie!!! \n",
              "199999    i have the urge to watch holes. and last weeks...\n",
              "Name: text, Length: 200000, dtype: object"
            ]
          },
          "metadata": {
            "tags": []
          },
          "execution_count": 13
        }
      ]
    },
    {
      "cell_type": "markdown",
      "metadata": {
        "id": "cR-h9ce4_D8v"
      },
      "source": [
        "### Remove hashtags, @ and url"
      ]
    },
    {
      "cell_type": "code",
      "metadata": {
        "execution": {
          "iopub.status.busy": "2021-07-10T16:57:00.340022Z",
          "iopub.execute_input": "2021-07-10T16:57:00.340467Z",
          "iopub.status.idle": "2021-07-10T16:57:00.348218Z",
          "shell.execute_reply.started": "2021-07-10T16:57:00.340432Z",
          "shell.execute_reply": "2021-07-10T16:57:00.347517Z"
        },
        "trusted": true,
        "colab": {
          "base_uri": "https://localhost:8080/",
          "height": 35
        },
        "id": "NjZl-EFc_D8v",
        "outputId": "dfe50d45-74a1-4c37-efd0-bb7ad0b405f6"
      },
      "source": [
        "def removeWordWithChar(text, char_list):\n",
        "    #Remove words in a text that contains a char from the list.\n",
        "    text = text.split()\n",
        "    res = [ele for ele in text if all(ch not in ele for ch in char_list)]\n",
        "    res = ' '.join(res)\n",
        "    return res\n",
        "\n",
        "char_list = ['@', '#', 'http', 'www', '/']\n",
        "\n",
        "removeWordWithChar(tweets[1], char_list)"
      ],
      "execution_count": 14,
      "outputs": [
        {
          "output_type": "execute_result",
          "data": {
            "application/vnd.google.colaboratory.intrinsic+json": {
              "type": "string"
            },
            "text/plain": [
              "\"confesses that she doesn't know how to cook\""
            ]
          },
          "metadata": {
            "tags": []
          },
          "execution_count": 14
        }
      ]
    },
    {
      "cell_type": "code",
      "metadata": {
        "execution": {
          "iopub.status.busy": "2021-07-10T16:57:00.349473Z",
          "iopub.execute_input": "2021-07-10T16:57:00.349975Z",
          "iopub.status.idle": "2021-07-10T16:57:03.199381Z",
          "shell.execute_reply.started": "2021-07-10T16:57:00.349933Z",
          "shell.execute_reply": "2021-07-10T16:57:03.198565Z"
        },
        "trusted": true,
        "id": "u0Ob5KCv_D8v"
      },
      "source": [
        "tweets_cleaned = []\n",
        "for t in tweets:\n",
        "    tweets_cleaned.append(removeWordWithChar(t, char_list))"
      ],
      "execution_count": 15,
      "outputs": []
    },
    {
      "cell_type": "code",
      "metadata": {
        "execution": {
          "iopub.status.busy": "2021-07-10T16:57:03.200853Z",
          "iopub.execute_input": "2021-07-10T16:57:03.201455Z",
          "iopub.status.idle": "2021-07-10T16:57:03.207412Z",
          "shell.execute_reply.started": "2021-07-10T16:57:03.201408Z",
          "shell.execute_reply": "2021-07-10T16:57:03.206485Z"
        },
        "trusted": true,
        "colab": {
          "base_uri": "https://localhost:8080/",
          "height": 35
        },
        "id": "cvKQxbvg_D8w",
        "outputId": "35e1ffde-1805-4e72-8f02-21a099da6809"
      },
      "source": [
        "tweets_cleaned[0]"
      ],
      "execution_count": 16,
      "outputs": [
        {
          "output_type": "execute_result",
          "data": {
            "application/vnd.google.colaboratory.intrinsic+json": {
              "type": "string"
            },
            "text/plain": [
              "'3 DAYS!!!thats too long i have to be back for my hardcore rehearsals starting tomorow!its poop!'"
            ]
          },
          "metadata": {
            "tags": []
          },
          "execution_count": 16
        }
      ]
    },
    {
      "cell_type": "code",
      "metadata": {
        "execution": {
          "iopub.status.busy": "2021-07-10T16:57:03.208993Z",
          "iopub.execute_input": "2021-07-10T16:57:03.209635Z",
          "iopub.status.idle": "2021-07-10T16:57:03.221348Z",
          "shell.execute_reply.started": "2021-07-10T16:57:03.209592Z",
          "shell.execute_reply": "2021-07-10T16:57:03.220182Z"
        },
        "trusted": true,
        "colab": {
          "base_uri": "https://localhost:8080/"
        },
        "id": "Gc_tTzhA_D8w",
        "outputId": "ba68ab80-2b4a-4504-d6de-6087a8052624"
      },
      "source": [
        "len(tweets_cleaned)"
      ],
      "execution_count": 17,
      "outputs": [
        {
          "output_type": "execute_result",
          "data": {
            "text/plain": [
              "200000"
            ]
          },
          "metadata": {
            "tags": []
          },
          "execution_count": 17
        }
      ]
    },
    {
      "cell_type": "markdown",
      "metadata": {
        "id": "tu8k-ZUx_D8w"
      },
      "source": [
        "### Tokenize"
      ]
    },
    {
      "cell_type": "code",
      "metadata": {
        "execution": {
          "iopub.status.busy": "2021-07-10T16:57:03.223161Z",
          "iopub.execute_input": "2021-07-10T16:57:03.223578Z",
          "iopub.status.idle": "2021-07-10T16:57:03.236148Z",
          "shell.execute_reply.started": "2021-07-10T16:57:03.223542Z",
          "shell.execute_reply": "2021-07-10T16:57:03.235254Z"
        },
        "trusted": true,
        "id": "eXlfEjfi_D8w"
      },
      "source": [
        "def tokenize(texts):\n",
        "    tokenizer = nltk.RegexpTokenizer(r'\\w+')\n",
        "\n",
        "    texts_tokens = []\n",
        "    for i, val in enumerate(texts):\n",
        "        text_tokens = tokenizer.tokenize(val.lower())\n",
        "\n",
        "        for i in range(len(text_tokens) - 1, -1, -1):\n",
        "            if len(text_tokens[i]) < 4:\n",
        "                del(text_tokens[i])\n",
        "\n",
        "        texts_tokens.append(text_tokens)\n",
        "        \n",
        "    return texts_tokens"
      ],
      "execution_count": 18,
      "outputs": []
    },
    {
      "cell_type": "code",
      "metadata": {
        "execution": {
          "iopub.status.busy": "2021-07-10T16:57:03.237376Z",
          "iopub.execute_input": "2021-07-10T16:57:03.237972Z",
          "iopub.status.idle": "2021-07-10T16:57:05.343415Z",
          "shell.execute_reply.started": "2021-07-10T16:57:03.237929Z",
          "shell.execute_reply": "2021-07-10T16:57:05.342308Z"
        },
        "trusted": true,
        "id": "Zgpn6VD7_D8w"
      },
      "source": [
        "tweets_tokens = tokenize(tweets_cleaned)"
      ],
      "execution_count": 19,
      "outputs": []
    },
    {
      "cell_type": "markdown",
      "metadata": {
        "id": "BSzunO3N_D8x"
      },
      "source": [
        "### Stopwords"
      ]
    },
    {
      "cell_type": "code",
      "metadata": {
        "execution": {
          "iopub.status.busy": "2021-07-10T16:57:05.344924Z",
          "iopub.execute_input": "2021-07-10T16:57:05.345287Z",
          "iopub.status.idle": "2021-07-10T16:57:05.350534Z",
          "shell.execute_reply.started": "2021-07-10T16:57:05.345257Z",
          "shell.execute_reply": "2021-07-10T16:57:05.349604Z"
        },
        "trusted": true,
        "id": "9d0P0CMF_D8x"
      },
      "source": [
        "def removeSW(texts_tokens):\n",
        "    stopWords = set(stopwords.words('english'))\n",
        "    texts_filtered = []\n",
        "\n",
        "    for i, val in enumerate(texts_tokens):\n",
        "        text_filtered = []\n",
        "        for w in val:\n",
        "            if w not in stopWords:\n",
        "                text_filtered.append(w)\n",
        "        texts_filtered.append(text_filtered)\n",
        "        \n",
        "    return texts_filtered"
      ],
      "execution_count": 20,
      "outputs": []
    },
    {
      "cell_type": "code",
      "metadata": {
        "execution": {
          "iopub.status.busy": "2021-07-10T16:57:05.351865Z",
          "iopub.execute_input": "2021-07-10T16:57:05.352374Z",
          "iopub.status.idle": "2021-07-10T16:57:06.108423Z",
          "shell.execute_reply.started": "2021-07-10T16:57:05.352335Z",
          "shell.execute_reply": "2021-07-10T16:57:06.10729Z"
        },
        "trusted": true,
        "colab": {
          "base_uri": "https://localhost:8080/"
        },
        "id": "ydsL1AKb_D8x",
        "outputId": "98b65081-0645-4225-defa-de7b6bc086fe"
      },
      "source": [
        "tweets_filtered = removeSW(tweets_tokens)\n",
        "\n",
        "tweets_filtered[:1]"
      ],
      "execution_count": 21,
      "outputs": [
        {
          "output_type": "execute_result",
          "data": {
            "text/plain": [
              "[['days',\n",
              "  'thats',\n",
              "  'long',\n",
              "  'back',\n",
              "  'hardcore',\n",
              "  'rehearsals',\n",
              "  'starting',\n",
              "  'tomorow',\n",
              "  'poop']]"
            ]
          },
          "metadata": {
            "tags": []
          },
          "execution_count": 21
        }
      ]
    },
    {
      "cell_type": "markdown",
      "metadata": {
        "id": "YwxovDbf_D8x"
      },
      "source": [
        "### Lemma"
      ]
    },
    {
      "cell_type": "code",
      "metadata": {
        "execution": {
          "iopub.status.busy": "2021-07-10T16:57:06.109936Z",
          "iopub.execute_input": "2021-07-10T16:57:06.110255Z",
          "iopub.status.idle": "2021-07-10T16:57:06.115862Z",
          "shell.execute_reply.started": "2021-07-10T16:57:06.110223Z",
          "shell.execute_reply": "2021-07-10T16:57:06.114725Z"
        },
        "trusted": true,
        "id": "CeoCC2LM_D8x"
      },
      "source": [
        "def lemma(texts_filtered):\n",
        "    wordnet_lemmatizer = WordNetLemmatizer()\n",
        "    texts_lem = []\n",
        "\n",
        "    for i, val in enumerate(texts_filtered):\n",
        "        text_lem = []\n",
        "        for word in val:\n",
        "            text_lem.append(wordnet_lemmatizer.lemmatize(word, pos=\"v\"))\n",
        "        texts_lem.append(text_lem)\n",
        "    \n",
        "    return texts_lem"
      ],
      "execution_count": 22,
      "outputs": []
    },
    {
      "cell_type": "code",
      "metadata": {
        "execution": {
          "iopub.status.busy": "2021-07-10T16:57:06.117023Z",
          "iopub.execute_input": "2021-07-10T16:57:06.117388Z",
          "iopub.status.idle": "2021-07-10T16:57:15.767402Z",
          "shell.execute_reply.started": "2021-07-10T16:57:06.117361Z",
          "shell.execute_reply": "2021-07-10T16:57:15.766532Z"
        },
        "trusted": true,
        "colab": {
          "base_uri": "https://localhost:8080/"
        },
        "id": "r_7SLzfT_D8x",
        "outputId": "a5ae9a2d-616e-4b3d-affc-76458719fa25"
      },
      "source": [
        "nltk.download('wordnet')\n",
        "\n",
        "tweets_lem = lemma(tweets_filtered)\n",
        "\n",
        "tweets_lem[:1]"
      ],
      "execution_count": 23,
      "outputs": [
        {
          "output_type": "stream",
          "text": [
            "[nltk_data] Downloading package wordnet to /root/nltk_data...\n",
            "[nltk_data]   Package wordnet is already up-to-date!\n"
          ],
          "name": "stdout"
        },
        {
          "output_type": "execute_result",
          "data": {
            "text/plain": [
              "[['days',\n",
              "  'thats',\n",
              "  'long',\n",
              "  'back',\n",
              "  'hardcore',\n",
              "  'rehearsals',\n",
              "  'start',\n",
              "  'tomorow',\n",
              "  'poop']]"
            ]
          },
          "metadata": {
            "tags": []
          },
          "execution_count": 23
        }
      ]
    },
    {
      "cell_type": "code",
      "metadata": {
        "execution": {
          "iopub.status.busy": "2021-07-10T16:57:15.770204Z",
          "iopub.execute_input": "2021-07-10T16:57:15.770527Z",
          "iopub.status.idle": "2021-07-10T16:57:15.911265Z",
          "shell.execute_reply.started": "2021-07-10T16:57:15.770497Z",
          "shell.execute_reply": "2021-07-10T16:57:15.910465Z"
        },
        "trusted": true,
        "id": "EthZDdUt_D8y"
      },
      "source": [
        "tweets_ready = []\n",
        "for tweet in tweets_lem:\n",
        "    string = ' '\n",
        "    string = string.join(tweet)\n",
        "    tweets_ready.append(string)"
      ],
      "execution_count": 24,
      "outputs": []
    },
    {
      "cell_type": "code",
      "metadata": {
        "execution": {
          "iopub.status.busy": "2021-07-10T16:57:15.91697Z",
          "iopub.execute_input": "2021-07-10T16:57:15.917448Z",
          "iopub.status.idle": "2021-07-10T16:57:15.924123Z",
          "shell.execute_reply.started": "2021-07-10T16:57:15.917413Z",
          "shell.execute_reply": "2021-07-10T16:57:15.923093Z"
        },
        "trusted": true,
        "colab": {
          "base_uri": "https://localhost:8080/"
        },
        "id": "b6iGLVFT_D8y",
        "outputId": "0b9946d1-3720-4f15-d3f5-15b00ad99f31"
      },
      "source": [
        "len(tweets_ready)"
      ],
      "execution_count": 25,
      "outputs": [
        {
          "output_type": "execute_result",
          "data": {
            "text/plain": [
              "200000"
            ]
          },
          "metadata": {
            "tags": []
          },
          "execution_count": 25
        }
      ]
    },
    {
      "cell_type": "code",
      "metadata": {
        "execution": {
          "iopub.status.busy": "2021-07-10T16:57:15.926548Z",
          "iopub.execute_input": "2021-07-10T16:57:15.926898Z",
          "iopub.status.idle": "2021-07-10T16:57:15.958763Z",
          "shell.execute_reply.started": "2021-07-10T16:57:15.926867Z",
          "shell.execute_reply": "2021-07-10T16:57:15.957904Z"
        },
        "trusted": true,
        "id": "bqsDORpO_D8y"
      },
      "source": [
        "df_preprocess['tweet'] = tweets_ready\n",
        "df_preprocess['target'] = df.target.replace(4, 1)"
      ],
      "execution_count": 26,
      "outputs": []
    },
    {
      "cell_type": "code",
      "metadata": {
        "execution": {
          "iopub.status.busy": "2021-07-10T16:57:15.959913Z",
          "iopub.execute_input": "2021-07-10T16:57:15.960315Z",
          "iopub.status.idle": "2021-07-10T16:57:15.979819Z",
          "shell.execute_reply.started": "2021-07-10T16:57:15.960284Z",
          "shell.execute_reply": "2021-07-10T16:57:15.978691Z"
        },
        "trusted": true,
        "colab": {
          "base_uri": "https://localhost:8080/",
          "height": 423
        },
        "id": "Xd-eECeC_D8y",
        "outputId": "7e537219-bfc5-4230-930d-4862c946b833"
      },
      "source": [
        "df_preprocess"
      ],
      "execution_count": 27,
      "outputs": [
        {
          "output_type": "execute_result",
          "data": {
            "text/html": [
              "<div>\n",
              "<style scoped>\n",
              "    .dataframe tbody tr th:only-of-type {\n",
              "        vertical-align: middle;\n",
              "    }\n",
              "\n",
              "    .dataframe tbody tr th {\n",
              "        vertical-align: top;\n",
              "    }\n",
              "\n",
              "    .dataframe thead th {\n",
              "        text-align: right;\n",
              "    }\n",
              "</style>\n",
              "<table border=\"1\" class=\"dataframe\">\n",
              "  <thead>\n",
              "    <tr style=\"text-align: right;\">\n",
              "      <th></th>\n",
              "      <th>target</th>\n",
              "      <th>text</th>\n",
              "      <th>tweet</th>\n",
              "    </tr>\n",
              "  </thead>\n",
              "  <tbody>\n",
              "    <tr>\n",
              "      <th>0</th>\n",
              "      <td>0</td>\n",
              "      <td>@FaridahF 3 DAYS!!!thats too long  i have to b...</td>\n",
              "      <td>days thats long back hardcore rehearsals start...</td>\n",
              "    </tr>\n",
              "    <tr>\n",
              "      <th>1</th>\n",
              "      <td>0</td>\n",
              "      <td>confesses that she doesn't know how to cook  h...</td>\n",
              "      <td>confess know cook</td>\n",
              "    </tr>\n",
              "    <tr>\n",
              "      <th>2</th>\n",
              "      <td>0</td>\n",
              "      <td>i am sooo nervous today..uhh i just wanna go h...</td>\n",
              "      <td>sooo nervous today wanna home team emmett</td>\n",
              "    </tr>\n",
              "    <tr>\n",
              "      <th>3</th>\n",
              "      <td>0</td>\n",
              "      <td>Saying goodnight is the hardest part..</td>\n",
              "      <td>say goodnight hardest part</td>\n",
              "    </tr>\n",
              "    <tr>\n",
              "      <th>4</th>\n",
              "      <td>0</td>\n",
              "      <td>Shopping with a GF... All I can think..there g...</td>\n",
              "      <td>shop think go putter shaft driver ball iron wedge</td>\n",
              "    </tr>\n",
              "    <tr>\n",
              "      <th>...</th>\n",
              "      <td>...</td>\n",
              "      <td>...</td>\n",
              "      <td>...</td>\n",
              "    </tr>\n",
              "    <tr>\n",
              "      <th>199995</th>\n",
              "      <td>1</td>\n",
              "      <td>@DavidArchie but i did watch all of your guest...</td>\n",
              "      <td>watch guestings show phil guy rock</td>\n",
              "    </tr>\n",
              "    <tr>\n",
              "      <th>199996</th>\n",
              "      <td>1</td>\n",
              "      <td>@PegasusAngel @dannysgirlsg1 &amp;quot;Good mornin...</td>\n",
              "      <td>quot good morning quot would sadly</td>\n",
              "    </tr>\n",
              "    <tr>\n",
              "      <th>199997</th>\n",
              "      <td>1</td>\n",
              "      <td>going away on holiday</td>\n",
              "      <td>go away holiday</td>\n",
              "    </tr>\n",
              "    <tr>\n",
              "      <th>199998</th>\n",
              "      <td>1</td>\n",
              "      <td>@MizzSexiiBaby thx for the twesent bestie!!!</td>\n",
              "      <td>twesent bestie</td>\n",
              "    </tr>\n",
              "    <tr>\n",
              "      <th>199999</th>\n",
              "      <td>1</td>\n",
              "      <td>i have the urge to watch holes. and last weeks...</td>\n",
              "      <td>urge watch hole last weeks criminal mind episo...</td>\n",
              "    </tr>\n",
              "  </tbody>\n",
              "</table>\n",
              "<p>200000 rows × 3 columns</p>\n",
              "</div>"
            ],
            "text/plain": [
              "        target  ...                                              tweet\n",
              "0            0  ...  days thats long back hardcore rehearsals start...\n",
              "1            0  ...                                  confess know cook\n",
              "2            0  ...          sooo nervous today wanna home team emmett\n",
              "3            0  ...                         say goodnight hardest part\n",
              "4            0  ...  shop think go putter shaft driver ball iron wedge\n",
              "...        ...  ...                                                ...\n",
              "199995       1  ...                 watch guestings show phil guy rock\n",
              "199996       1  ...                 quot good morning quot would sadly\n",
              "199997       1  ...                                    go away holiday\n",
              "199998       1  ...                                     twesent bestie\n",
              "199999       1  ...  urge watch hole last weeks criminal mind episo...\n",
              "\n",
              "[200000 rows x 3 columns]"
            ]
          },
          "metadata": {
            "tags": []
          },
          "execution_count": 27
        }
      ]
    },
    {
      "cell_type": "markdown",
      "metadata": {
        "id": "h_cZtZC-_D8y"
      },
      "source": [
        "## Word embedding : Glove"
      ]
    },
    {
      "cell_type": "code",
      "metadata": {
        "id": "C1zdgJkusRh0"
      },
      "source": [
        "# 100d glove model. smaller but gets less accuarcy.\n",
        "# Note this is the 100 dimension version of GloVe from Stanford\n",
        "# I unzipped and hosted it on my site to make this notebook easier\n",
        "#!wget --no-check-certificate https://storage.googleapis.com/laurencemoroney-blog.appspot.com/glove.6B.100d.txt  -O /tmp/glove.6B.100d.txt\n",
        "#GLOVE_EMB = '/tmp/glove.6B.100d.txt'\n",
        "#EMBEDDING_DIM = 100\n"
      ],
      "execution_count": 28,
      "outputs": []
    },
    {
      "cell_type": "code",
      "metadata": {
        "colab": {
          "base_uri": "https://localhost:8080/"
        },
        "id": "GkRLP_hQE0hu",
        "outputId": "1cf9d63e-8594-4f06-a4ca-ebfd0d404dda"
      },
      "source": [
        "##Glove embedding 300d (More accurate!!!)\n",
        "!wget --no-check-certificate  https://nlp.stanford.edu/data/glove.42B.300d.zip  -O /tmp/glove.42B.300d.zip\n",
        "! unzip  /tmp/glove.42B.300d.zip\n",
        "! mv glove.42B.300d.txt /tmp\n",
        "GLOVE_EMB = '/tmp/glove.42B.300d.txt'\n",
        "EMBEDDING_DIM = 300"
      ],
      "execution_count": 29,
      "outputs": [
        {
          "output_type": "stream",
          "text": [
            "--2021-07-15 22:20:33--  https://nlp.stanford.edu/data/glove.42B.300d.zip\n",
            "Resolving nlp.stanford.edu (nlp.stanford.edu)... 171.64.67.140\n",
            "Connecting to nlp.stanford.edu (nlp.stanford.edu)|171.64.67.140|:443... connected.\n",
            "HTTP request sent, awaiting response... 301 Moved Permanently\n",
            "Location: http://downloads.cs.stanford.edu/nlp/data/glove.42B.300d.zip [following]\n",
            "--2021-07-15 22:20:34--  http://downloads.cs.stanford.edu/nlp/data/glove.42B.300d.zip\n",
            "Resolving downloads.cs.stanford.edu (downloads.cs.stanford.edu)... 171.64.64.22\n",
            "Connecting to downloads.cs.stanford.edu (downloads.cs.stanford.edu)|171.64.64.22|:80... connected.\n",
            "HTTP request sent, awaiting response... 200 OK\n",
            "Length: 1877800501 (1.7G) [application/zip]\n",
            "Saving to: ‘/tmp/glove.42B.300d.zip’\n",
            "\n",
            "/tmp/glove.42B.300d 100%[===================>]   1.75G  5.25MB/s    in 5m 55s  \n",
            "\n",
            "2021-07-15 22:26:29 (5.04 MB/s) - ‘/tmp/glove.42B.300d.zip’ saved [1877800501/1877800501]\n",
            "\n",
            "Archive:  /tmp/glove.42B.300d.zip\n",
            "  inflating: glove.42B.300d.txt      \n"
          ],
          "name": "stdout"
        }
      ]
    },
    {
      "cell_type": "code",
      "metadata": {
        "id": "9jrpySN2H5lz"
      },
      "source": [
        ""
      ],
      "execution_count": 29,
      "outputs": []
    },
    {
      "cell_type": "code",
      "metadata": {
        "execution": {
          "iopub.status.busy": "2021-07-10T16:57:15.992504Z",
          "iopub.execute_input": "2021-07-10T16:57:15.993143Z",
          "iopub.status.idle": "2021-07-10T17:03:31.932413Z",
          "shell.execute_reply.started": "2021-07-10T16:57:15.993096Z",
          "shell.execute_reply": "2021-07-10T17:03:31.931278Z"
        },
        "trusted": true,
        "colab": {
          "base_uri": "https://localhost:8080/"
        },
        "id": "b5qxqE5q_D8y",
        "outputId": "e6a35671-8a2b-4cab-b194-0a3991fa8e9a"
      },
      "source": [
        "%%time\n",
        "embeddings_index = {}\n",
        "f = codecs.open(GLOVE_EMB, encoding='utf-8')\n",
        "for line in tqdm(f):\n",
        "  values = line.split()\n",
        "  word = value = values[0]\n",
        "  coefs = np.asarray(values[1:], dtype='float32')\n",
        "  embeddings_index[word] = coefs\n",
        "f.close()\n",
        "\n",
        "print('Found %s word vectors.' %len(embeddings_index))"
      ],
      "execution_count": 30,
      "outputs": [
        {
          "output_type": "stream",
          "text": [
            "1917494it [03:31, 9053.68it/s]"
          ],
          "name": "stderr"
        },
        {
          "output_type": "stream",
          "text": [
            "Found 1917494 word vectors.\n",
            "CPU times: user 3min 30s, sys: 13.9 s, total: 3min 43s\n",
            "Wall time: 3min 31s\n"
          ],
          "name": "stdout"
        },
        {
          "output_type": "stream",
          "text": [
            "\n"
          ],
          "name": "stderr"
        }
      ]
    },
    {
      "cell_type": "code",
      "metadata": {
        "execution": {
          "iopub.status.busy": "2021-07-10T17:03:31.934526Z",
          "iopub.execute_input": "2021-07-10T17:03:31.934955Z",
          "iopub.status.idle": "2021-07-10T17:03:34.950194Z",
          "shell.execute_reply.started": "2021-07-10T17:03:31.934913Z",
          "shell.execute_reply": "2021-07-10T17:03:34.948633Z"
        },
        "trusted": true,
        "colab": {
          "base_uri": "https://localhost:8080/"
        },
        "id": "NqNxsCRr_D8z",
        "outputId": "adbe9682-0216-48ec-e35d-7dde7f22b113"
      },
      "source": [
        "from keras.preprocessing.text import Tokenizer\n",
        "\n",
        "tokenizer = Tokenizer()\n",
        "tokenizer.fit_on_texts(df_preprocess.tweet)\n",
        "\n",
        "word_index = tokenizer.word_index\n",
        "vocabulary_size = len(tokenizer.word_index) + 1\n",
        "print(\"Vocabulary Size :\", vocabulary_size)"
      ],
      "execution_count": 31,
      "outputs": [
        {
          "output_type": "stream",
          "text": [
            "Vocabulary Size : 66141\n"
          ],
          "name": "stdout"
        }
      ]
    },
    {
      "cell_type": "code",
      "metadata": {
        "execution": {
          "iopub.status.busy": "2021-07-10T17:03:34.952659Z",
          "iopub.execute_input": "2021-07-10T17:03:34.953019Z",
          "iopub.status.idle": "2021-07-10T17:03:35.373921Z",
          "shell.execute_reply.started": "2021-07-10T17:03:34.952988Z",
          "shell.execute_reply": "2021-07-10T17:03:35.372819Z"
        },
        "trusted": true,
        "id": "vEqH6uWi_D8z"
      },
      "source": [
        "embedding_matrix = np.zeros((vocabulary_size, EMBEDDING_DIM))\n",
        "for word, i in word_index.items():\n",
        "  embedding_vector = embeddings_index.get(word)\n",
        "  if embedding_vector is not None:\n",
        "    embedding_matrix[i] = embedding_vector"
      ],
      "execution_count": 32,
      "outputs": []
    },
    {
      "cell_type": "code",
      "metadata": {
        "execution": {
          "iopub.status.busy": "2021-07-10T17:03:35.375612Z",
          "iopub.execute_input": "2021-07-10T17:03:35.375959Z",
          "iopub.status.idle": "2021-07-10T17:03:35.382329Z",
          "shell.execute_reply.started": "2021-07-10T17:03:35.375925Z",
          "shell.execute_reply": "2021-07-10T17:03:35.381441Z"
        },
        "trusted": true,
        "colab": {
          "base_uri": "https://localhost:8080/"
        },
        "id": "OfTuWo9z_D8z",
        "outputId": "3ce5fde9-040a-434a-b1af-ad77e7bfc195"
      },
      "source": [
        "embedding_matrix.shape"
      ],
      "execution_count": 33,
      "outputs": [
        {
          "output_type": "execute_result",
          "data": {
            "text/plain": [
              "(66141, 300)"
            ]
          },
          "metadata": {
            "tags": []
          },
          "execution_count": 33
        }
      ]
    },
    {
      "cell_type": "markdown",
      "metadata": {
        "id": "3bADjXN2_D8z"
      },
      "source": [
        "## Prepare training"
      ]
    },
    {
      "cell_type": "code",
      "metadata": {
        "execution": {
          "iopub.status.busy": "2021-07-10T17:03:35.383743Z",
          "iopub.execute_input": "2021-07-10T17:03:35.384071Z",
          "iopub.status.idle": "2021-07-10T17:03:35.394Z",
          "shell.execute_reply.started": "2021-07-10T17:03:35.384041Z",
          "shell.execute_reply": "2021-07-10T17:03:35.393022Z"
        },
        "trusted": true,
        "id": "V-tDCz5Y_D8z"
      },
      "source": [
        "from tensorflow.keras.layers import Conv1D, Bidirectional, LSTM, Dense, Input, Dropout, SpatialDropout1D, GlobalMaxPooling1D\n",
        "from tensorflow.keras.callbacks import ModelCheckpoint\n",
        "from tensorflow.keras.optimizers import Adam\n",
        "from tensorflow.keras.callbacks import ReduceLROnPlateau, EarlyStopping"
      ],
      "execution_count": 34,
      "outputs": []
    },
    {
      "cell_type": "code",
      "metadata": {
        "execution": {
          "iopub.status.busy": "2021-07-10T17:03:35.395266Z",
          "iopub.execute_input": "2021-07-10T17:03:35.395577Z",
          "iopub.status.idle": "2021-07-10T17:03:35.411406Z",
          "shell.execute_reply.started": "2021-07-10T17:03:35.395547Z",
          "shell.execute_reply": "2021-07-10T17:03:35.410353Z"
        },
        "trusted": true,
        "id": "WVYmxBoA_D80"
      },
      "source": [
        "BATCH_SIZE = 1024\n",
        "EPOCHS = 30"
      ],
      "execution_count": 35,
      "outputs": []
    },
    {
      "cell_type": "markdown",
      "metadata": {
        "id": "egsZ-6GB_D80"
      },
      "source": [
        "### Create train / test sets"
      ]
    },
    {
      "cell_type": "code",
      "metadata": {
        "execution": {
          "iopub.status.busy": "2021-07-10T17:03:35.412791Z",
          "iopub.execute_input": "2021-07-10T17:03:35.413124Z",
          "iopub.status.idle": "2021-07-10T17:03:35.476831Z",
          "shell.execute_reply.started": "2021-07-10T17:03:35.413082Z",
          "shell.execute_reply": "2021-07-10T17:03:35.475574Z"
        },
        "trusted": true,
        "colab": {
          "base_uri": "https://localhost:8080/"
        },
        "id": "vCfkNsU6_D80",
        "outputId": "007c1893-3de0-4ec1-e831-7f162d2659f4"
      },
      "source": [
        "X_train, X_test, y_train, y_test = sklearn.model_selection.train_test_split(df_preprocess['tweet'], df_preprocess['target'], test_size=0.2, random_state=123)\n",
        "print(\"Train Data size:\", len(X_train))\n",
        "print(\"Test Data size\", len(X_test))"
      ],
      "execution_count": 36,
      "outputs": [
        {
          "output_type": "stream",
          "text": [
            "Train Data size: 160000\n",
            "Test Data size 40000\n"
          ],
          "name": "stdout"
        }
      ]
    },
    {
      "cell_type": "code",
      "metadata": {
        "execution": {
          "iopub.status.busy": "2021-07-10T17:03:35.478093Z",
          "iopub.execute_input": "2021-07-10T17:03:35.478397Z",
          "iopub.status.idle": "2021-07-10T17:03:35.48383Z",
          "shell.execute_reply.started": "2021-07-10T17:03:35.478365Z",
          "shell.execute_reply": "2021-07-10T17:03:35.482604Z"
        },
        "trusted": true,
        "id": "0kx4qu8k_D80"
      },
      "source": [
        "MAX_SEQUENCE_LENGTH = 30"
      ],
      "execution_count": 37,
      "outputs": []
    },
    {
      "cell_type": "code",
      "metadata": {
        "execution": {
          "iopub.status.busy": "2021-07-10T17:03:35.485025Z",
          "iopub.execute_input": "2021-07-10T17:03:35.485327Z",
          "iopub.status.idle": "2021-07-10T17:03:39.186699Z",
          "shell.execute_reply.started": "2021-07-10T17:03:35.485289Z",
          "shell.execute_reply": "2021-07-10T17:03:39.185714Z"
        },
        "trusted": true,
        "colab": {
          "base_uri": "https://localhost:8080/"
        },
        "id": "40_MmTEQ_D81",
        "outputId": "146ef861-0e0c-44bb-e276-2608384d3b4d"
      },
      "source": [
        "from keras.preprocessing.sequence import pad_sequences\n",
        "\n",
        "X_train = pad_sequences(tokenizer.texts_to_sequences(X_train),\n",
        "                        maxlen = MAX_SEQUENCE_LENGTH)\n",
        "X_test = pad_sequences(tokenizer.texts_to_sequences(X_test),\n",
        "                       maxlen = MAX_SEQUENCE_LENGTH)\n",
        "\n",
        "print(\"Training X Shape:\",X_train.shape)\n",
        "print(\"Testing X Shape:\",X_test.shape)"
      ],
      "execution_count": 38,
      "outputs": [
        {
          "output_type": "stream",
          "text": [
            "Training X Shape: (160000, 30)\n",
            "Testing X Shape: (40000, 30)\n"
          ],
          "name": "stdout"
        }
      ]
    },
    {
      "cell_type": "markdown",
      "metadata": {
        "id": "n9OY_Q91_D81"
      },
      "source": [
        "### Embedding layer"
      ]
    },
    {
      "cell_type": "code",
      "metadata": {
        "execution": {
          "iopub.status.busy": "2021-07-10T17:03:39.188312Z",
          "iopub.execute_input": "2021-07-10T17:03:39.188987Z",
          "iopub.status.idle": "2021-07-10T17:03:39.196494Z",
          "shell.execute_reply.started": "2021-07-10T17:03:39.188941Z",
          "shell.execute_reply": "2021-07-10T17:03:39.195367Z"
        },
        "trusted": true,
        "colab": {
          "base_uri": "https://localhost:8080/"
        },
        "id": "rgMROg78_D81",
        "outputId": "bbaab53a-990f-4940-d9b0-d54ae021858b"
      },
      "source": [
        "embedding_matrix.shape"
      ],
      "execution_count": 39,
      "outputs": [
        {
          "output_type": "execute_result",
          "data": {
            "text/plain": [
              "(66141, 300)"
            ]
          },
          "metadata": {
            "tags": []
          },
          "execution_count": 39
        }
      ]
    },
    {
      "cell_type": "code",
      "metadata": {
        "execution": {
          "iopub.status.busy": "2021-07-10T17:03:39.197841Z",
          "iopub.execute_input": "2021-07-10T17:03:39.198125Z",
          "iopub.status.idle": "2021-07-10T17:03:39.237331Z",
          "shell.execute_reply.started": "2021-07-10T17:03:39.198097Z",
          "shell.execute_reply": "2021-07-10T17:03:39.236086Z"
        },
        "trusted": true,
        "id": "1_CO61aF_D81"
      },
      "source": [
        "embedding_layer = tf.keras.layers.Embedding(vocabulary_size,\n",
        "                                          EMBEDDING_DIM,\n",
        "                                          weights=[embedding_matrix],\n",
        "                                          input_length=MAX_SEQUENCE_LENGTH,\n",
        "                                          trainable=False)"
      ],
      "execution_count": 40,
      "outputs": []
    },
    {
      "cell_type": "markdown",
      "metadata": {
        "id": "my_MgW7G_D81"
      },
      "source": [
        "### Callbacks"
      ]
    },
    {
      "cell_type": "code",
      "metadata": {
        "execution": {
          "iopub.status.busy": "2021-07-10T17:03:39.238913Z",
          "iopub.execute_input": "2021-07-10T17:03:39.239241Z",
          "iopub.status.idle": "2021-07-10T17:03:39.244308Z",
          "shell.execute_reply.started": "2021-07-10T17:03:39.239208Z",
          "shell.execute_reply": "2021-07-10T17:03:39.243528Z"
        },
        "trusted": true,
        "id": "VcQnDsDj_D81"
      },
      "source": [
        "es=EarlyStopping(monitor='val_loss',\n",
        "                 mode='min',\n",
        "                 verbose=1,\n",
        "                 patience=5)\n",
        "\n",
        "reduce_lr = ReduceLROnPlateau(factor=0.1,\n",
        "                                     min_lr = 0.01,\n",
        "                                     monitor = 'val_loss',\n",
        "                                     verbose = 1)"
      ],
      "execution_count": 41,
      "outputs": []
    },
    {
      "cell_type": "markdown",
      "metadata": {
        "id": "cdPwklp4_D82"
      },
      "source": [
        "## Model A : CNN"
      ]
    },
    {
      "cell_type": "code",
      "metadata": {
        "execution": {
          "iopub.status.busy": "2021-07-10T17:03:39.245702Z",
          "iopub.execute_input": "2021-07-10T17:03:39.246025Z",
          "iopub.status.idle": "2021-07-10T17:03:39.760245Z",
          "shell.execute_reply.started": "2021-07-10T17:03:39.245994Z",
          "shell.execute_reply": "2021-07-10T17:03:39.759082Z"
        },
        "trusted": true,
        "id": "vUrEMZyi_D82"
      },
      "source": [
        "inputs = tf.keras.Input(shape=(MAX_SEQUENCE_LENGTH,), dtype=\"int32\")\n",
        "\n",
        "x = embedding_layer(inputs)\n",
        "x = Dropout(0.5)(x)\n",
        "\n",
        "# Conv1D x2 + global max pooling\n",
        "x = Conv1D(128, 7, activation=\"relu\")(x)\n",
        "x = Conv1D(128, 7, activation=\"relu\")(x)\n",
        "x = GlobalMaxPooling1D()(x)\n",
        "\n",
        "# Vanilla hidden layer:\n",
        "x = Dense(512, activation=\"relu\")(x)\n",
        "x = Dropout(0.5)(x)\n",
        "\n",
        "outputs = Dense(1, activation=\"sigmoid\")(x)\n",
        "\n",
        "model_A = tf.keras.Model(inputs, outputs)"
      ],
      "execution_count": 42,
      "outputs": []
    },
    {
      "cell_type": "code",
      "metadata": {
        "execution": {
          "iopub.status.busy": "2021-07-10T17:03:39.76193Z",
          "iopub.execute_input": "2021-07-10T17:03:39.762384Z",
          "iopub.status.idle": "2021-07-10T17:03:39.774312Z",
          "shell.execute_reply.started": "2021-07-10T17:03:39.76234Z",
          "shell.execute_reply": "2021-07-10T17:03:39.773061Z"
        },
        "trusted": true,
        "colab": {
          "base_uri": "https://localhost:8080/"
        },
        "id": "-NBidZMM_D82",
        "outputId": "63c096c8-79c8-4ad2-dbb2-066c4e6e8a79"
      },
      "source": [
        "model_A.summary()"
      ],
      "execution_count": 43,
      "outputs": [
        {
          "output_type": "stream",
          "text": [
            "Model: \"model\"\n",
            "_________________________________________________________________\n",
            "Layer (type)                 Output Shape              Param #   \n",
            "=================================================================\n",
            "input_1 (InputLayer)         [(None, 30)]              0         \n",
            "_________________________________________________________________\n",
            "embedding (Embedding)        (None, 30, 300)           19842300  \n",
            "_________________________________________________________________\n",
            "dropout (Dropout)            (None, 30, 300)           0         \n",
            "_________________________________________________________________\n",
            "conv1d (Conv1D)              (None, 24, 128)           268928    \n",
            "_________________________________________________________________\n",
            "conv1d_1 (Conv1D)            (None, 18, 128)           114816    \n",
            "_________________________________________________________________\n",
            "global_max_pooling1d (Global (None, 128)               0         \n",
            "_________________________________________________________________\n",
            "dense (Dense)                (None, 512)               66048     \n",
            "_________________________________________________________________\n",
            "dropout_1 (Dropout)          (None, 512)               0         \n",
            "_________________________________________________________________\n",
            "dense_1 (Dense)              (None, 1)                 513       \n",
            "=================================================================\n",
            "Total params: 20,292,605\n",
            "Trainable params: 450,305\n",
            "Non-trainable params: 19,842,300\n",
            "_________________________________________________________________\n"
          ],
          "name": "stdout"
        }
      ]
    },
    {
      "cell_type": "code",
      "metadata": {
        "execution": {
          "iopub.status.busy": "2021-07-10T17:03:39.775736Z",
          "iopub.execute_input": "2021-07-10T17:03:39.776067Z",
          "iopub.status.idle": "2021-07-10T17:03:39.796088Z",
          "shell.execute_reply.started": "2021-07-10T17:03:39.776036Z",
          "shell.execute_reply": "2021-07-10T17:03:39.794954Z"
        },
        "trusted": true,
        "id": "rvievLhq_D82"
      },
      "source": [
        "model_A.compile(optimizer=Adam(), loss='binary_crossentropy',\n",
        "              metrics=['accuracy'])"
      ],
      "execution_count": 44,
      "outputs": []
    },
    {
      "cell_type": "code",
      "metadata": {
        "execution": {
          "iopub.status.busy": "2021-07-10T17:03:39.797369Z",
          "iopub.execute_input": "2021-07-10T17:03:39.797677Z",
          "iopub.status.idle": "2021-07-10T17:25:55.64613Z",
          "shell.execute_reply.started": "2021-07-10T17:03:39.797646Z",
          "shell.execute_reply": "2021-07-10T17:25:55.644903Z"
        },
        "trusted": true,
        "colab": {
          "base_uri": "https://localhost:8080/"
        },
        "id": "15m1flMG_D82",
        "outputId": "7f82cbef-e4bf-4bc6-a019-0eab079f976b"
      },
      "source": [
        "%%time\n",
        "history_A = model_A.fit(X_train, y_train, batch_size=BATCH_SIZE, epochs=EPOCHS, validation_data=(X_test, y_test), callbacks=[es, reduce_lr])"
      ],
      "execution_count": 45,
      "outputs": [
        {
          "output_type": "stream",
          "text": [
            "Epoch 1/30\n",
            "157/157 [==============================] - 20s 23ms/step - loss: 0.5931 - accuracy: 0.6746 - val_loss: 0.5444 - val_accuracy: 0.7227\n",
            "Epoch 2/30\n",
            "157/157 [==============================] - 3s 22ms/step - loss: 0.5515 - accuracy: 0.7158 - val_loss: 0.5312 - val_accuracy: 0.7303\n",
            "Epoch 3/30\n",
            "157/157 [==============================] - 3s 22ms/step - loss: 0.5387 - accuracy: 0.7264 - val_loss: 0.5296 - val_accuracy: 0.7337\n",
            "Epoch 4/30\n",
            "157/157 [==============================] - 3s 22ms/step - loss: 0.5280 - accuracy: 0.7329 - val_loss: 0.5223 - val_accuracy: 0.7360\n",
            "Epoch 5/30\n",
            "157/157 [==============================] - 3s 22ms/step - loss: 0.5153 - accuracy: 0.7418 - val_loss: 0.5204 - val_accuracy: 0.7406\n",
            "Epoch 6/30\n",
            "157/157 [==============================] - 3s 22ms/step - loss: 0.5094 - accuracy: 0.7460 - val_loss: 0.5174 - val_accuracy: 0.7404\n",
            "Epoch 7/30\n",
            "157/157 [==============================] - 3s 22ms/step - loss: 0.5030 - accuracy: 0.7511 - val_loss: 0.5158 - val_accuracy: 0.7418\n",
            "Epoch 8/30\n",
            "157/157 [==============================] - 3s 22ms/step - loss: 0.4945 - accuracy: 0.7574 - val_loss: 0.5146 - val_accuracy: 0.7434\n",
            "Epoch 9/30\n",
            "157/157 [==============================] - 3s 22ms/step - loss: 0.4872 - accuracy: 0.7618 - val_loss: 0.5179 - val_accuracy: 0.7405\n",
            "Epoch 10/30\n",
            "157/157 [==============================] - 3s 21ms/step - loss: 0.4809 - accuracy: 0.7660 - val_loss: 0.5165 - val_accuracy: 0.7428\n",
            "Epoch 11/30\n",
            "157/157 [==============================] - 3s 21ms/step - loss: 0.4758 - accuracy: 0.7688 - val_loss: 0.5211 - val_accuracy: 0.7401\n",
            "Epoch 12/30\n",
            "157/157 [==============================] - 3s 21ms/step - loss: 0.4713 - accuracy: 0.7723 - val_loss: 0.5197 - val_accuracy: 0.7408\n",
            "Epoch 13/30\n",
            "157/157 [==============================] - 3s 21ms/step - loss: 0.4661 - accuracy: 0.7752 - val_loss: 0.5185 - val_accuracy: 0.7415\n",
            "Epoch 00013: early stopping\n",
            "CPU times: user 43.8 s, sys: 2.62 s, total: 46.4 s\n",
            "Wall time: 1min 1s\n"
          ],
          "name": "stdout"
        }
      ]
    },
    {
      "cell_type": "code",
      "metadata": {
        "execution": {
          "iopub.status.busy": "2021-07-10T18:06:09.884972Z",
          "iopub.execute_input": "2021-07-10T18:06:09.885271Z",
          "iopub.status.idle": "2021-07-10T18:06:10.06741Z",
          "shell.execute_reply.started": "2021-07-10T18:06:09.885242Z",
          "shell.execute_reply": "2021-07-10T18:06:10.06635Z"
        },
        "trusted": true,
        "colab": {
          "base_uri": "https://localhost:8080/",
          "height": 313
        },
        "id": "H32L0WGJ_D82",
        "outputId": "992234e6-f3eb-4951-9d34-c686939e8de3"
      },
      "source": [
        "plt.plot(history_A.history['accuracy'])\n",
        "plt.plot(history_A.history['val_accuracy'])\n",
        "plt.ylabel('Accuracy')\n",
        "plt.title('CNN with word embedding glove')\n",
        "plt.xlabel('Epoch')\n",
        "plt.legend(['Train', 'Validation'], loc='upper left')"
      ],
      "execution_count": 46,
      "outputs": [
        {
          "output_type": "execute_result",
          "data": {
            "text/plain": [
              "<matplotlib.legend.Legend at 0x7fccf2db22d0>"
            ]
          },
          "metadata": {
            "tags": []
          },
          "execution_count": 46
        },
        {
          "output_type": "display_data",
          "data": {
            "image/png": "[encoded data removed]",
            "text/plain": [
              "<Figure size 432x288 with 1 Axes>"
            ]
          },
          "metadata": {
            "tags": [],
            "needs_background": "light"
          }
        }
      ]
    },
    {
      "cell_type": "markdown",
      "metadata": {
        "id": "HNjHwShz_D83"
      },
      "source": [
        "## Model B : RNN"
      ]
    },
    {
      "cell_type": "code",
      "metadata": {
        "execution": {
          "iopub.status.busy": "2021-07-10T17:25:55.885732Z",
          "iopub.execute_input": "2021-07-10T17:25:55.886125Z",
          "iopub.status.idle": "2021-07-10T17:25:56.251432Z",
          "shell.execute_reply.started": "2021-07-10T17:25:55.886093Z",
          "shell.execute_reply": "2021-07-10T17:25:56.250317Z"
        },
        "trusted": true,
        "colab": {
          "base_uri": "https://localhost:8080/"
        },
        "id": "_iwxCCJ4_D83",
        "outputId": "92f6db49-c036-4579-b3ba-9406528f5769"
      },
      "source": [
        "inputs = tf.keras.Input(shape=(MAX_SEQUENCE_LENGTH,), dtype=\"int32\")\n",
        "\n",
        "x = embedding_layer(inputs)\n",
        "x = SpatialDropout1D(0.2)(x)\n",
        "\n",
        "# Conv1D + LSTM (bidirectional)\n",
        "x = Conv1D(64, 5, activation='relu')(x)\n",
        "x = Bidirectional(LSTM(64, dropout=0.2, recurrent_dropout=0.2))(x)\n",
        "\n",
        "# Vanilla hidden layer:\n",
        "x = Dense(512, activation=\"relu\")(x)\n",
        "x = Dropout(0.5)(x)\n",
        "\n",
        "outputs = Dense(1, activation=\"sigmoid\")(x)\n",
        "\n",
        "model_B = tf.keras.Model(inputs, outputs)"
      ],
      "execution_count": 47,
      "outputs": [
        {
          "output_type": "stream",
          "text": [
            "WARNING:tensorflow:Layer lstm will not use cuDNN kernels since it doesn't meet the criteria. It will use a generic GPU kernel as fallback when running on GPU.\n",
            "WARNING:tensorflow:Layer lstm will not use cuDNN kernels since it doesn't meet the criteria. It will use a generic GPU kernel as fallback when running on GPU.\n",
            "WARNING:tensorflow:Layer lstm will not use cuDNN kernels since it doesn't meet the criteria. It will use a generic GPU kernel as fallback when running on GPU.\n"
          ],
          "name": "stdout"
        }
      ]
    },
    {
      "cell_type": "code",
      "metadata": {
        "execution": {
          "iopub.status.busy": "2021-07-10T17:25:56.252803Z",
          "iopub.execute_input": "2021-07-10T17:25:56.253071Z",
          "iopub.status.idle": "2021-07-10T17:25:56.26602Z",
          "shell.execute_reply.started": "2021-07-10T17:25:56.253044Z",
          "shell.execute_reply": "2021-07-10T17:25:56.264616Z"
        },
        "trusted": true,
        "colab": {
          "base_uri": "https://localhost:8080/"
        },
        "id": "R3uKwAB0_D83",
        "outputId": "0e623a29-26a1-4308-8b82-80fd9b2ab2ab"
      },
      "source": [
        "model_B.summary()"
      ],
      "execution_count": 48,
      "outputs": [
        {
          "output_type": "stream",
          "text": [
            "Model: \"model_1\"\n",
            "_________________________________________________________________\n",
            "Layer (type)                 Output Shape              Param #   \n",
            "=================================================================\n",
            "input_2 (InputLayer)         [(None, 30)]              0         \n",
            "_________________________________________________________________\n",
            "embedding (Embedding)        (None, 30, 300)           19842300  \n",
            "_________________________________________________________________\n",
            "spatial_dropout1d (SpatialDr (None, 30, 300)           0         \n",
            "_________________________________________________________________\n",
            "conv1d_2 (Conv1D)            (None, 26, 64)            96064     \n",
            "_________________________________________________________________\n",
            "bidirectional (Bidirectional (None, 128)               66048     \n",
            "_________________________________________________________________\n",
            "dense_2 (Dense)              (None, 512)               66048     \n",
            "_________________________________________________________________\n",
            "dropout_2 (Dropout)          (None, 512)               0         \n",
            "_________________________________________________________________\n",
            "dense_3 (Dense)              (None, 1)                 513       \n",
            "=================================================================\n",
            "Total params: 20,070,973\n",
            "Trainable params: 228,673\n",
            "Non-trainable params: 19,842,300\n",
            "_________________________________________________________________\n"
          ],
          "name": "stdout"
        }
      ]
    },
    {
      "cell_type": "code",
      "metadata": {
        "execution": {
          "iopub.status.busy": "2021-07-10T17:25:56.267959Z",
          "iopub.execute_input": "2021-07-10T17:25:56.268417Z",
          "iopub.status.idle": "2021-07-10T17:25:56.283257Z",
          "shell.execute_reply.started": "2021-07-10T17:25:56.268363Z",
          "shell.execute_reply": "2021-07-10T17:25:56.282074Z"
        },
        "trusted": true,
        "id": "Y7T5BYfz_D83"
      },
      "source": [
        "model_B.compile(optimizer=Adam(), loss='binary_crossentropy',\n",
        "              metrics=['accuracy'])"
      ],
      "execution_count": 49,
      "outputs": []
    },
    {
      "cell_type": "code",
      "metadata": {
        "execution": {
          "iopub.status.busy": "2021-07-10T17:25:56.284642Z",
          "iopub.execute_input": "2021-07-10T17:25:56.285037Z",
          "iopub.status.idle": "2021-07-10T17:47:39.75343Z",
          "shell.execute_reply.started": "2021-07-10T17:25:56.285006Z",
          "shell.execute_reply": "2021-07-10T17:47:39.752191Z"
        },
        "trusted": true,
        "colab": {
          "base_uri": "https://localhost:8080/"
        },
        "id": "sAImbSbc_D83",
        "outputId": "3acf9fa7-4b81-437e-b934-d33e1eef9efb"
      },
      "source": [
        "%%time\n",
        "history_B = model_B.fit(X_train, y_train, batch_size=BATCH_SIZE, epochs=EPOCHS,\n",
        "                    validation_data=(X_test, y_test), callbacks=[es, reduce_lr])"
      ],
      "execution_count": 50,
      "outputs": [
        {
          "output_type": "stream",
          "text": [
            "Epoch 1/30\n",
            "157/157 [==============================] - 45s 261ms/step - loss: 0.5726 - accuracy: 0.6965 - val_loss: 0.5400 - val_accuracy: 0.7264\n",
            "Epoch 2/30\n",
            "157/157 [==============================] - 40s 254ms/step - loss: 0.5336 - accuracy: 0.7293 - val_loss: 0.5250 - val_accuracy: 0.7355\n",
            "Epoch 3/30\n",
            "157/157 [==============================] - 41s 262ms/step - loss: 0.5174 - accuracy: 0.7414 - val_loss: 0.5170 - val_accuracy: 0.7416\n",
            "Epoch 4/30\n",
            "157/157 [==============================] - 41s 262ms/step - loss: 0.5054 - accuracy: 0.7493 - val_loss: 0.5165 - val_accuracy: 0.7419\n",
            "Epoch 5/30\n",
            "157/157 [==============================] - 41s 263ms/step - loss: 0.4956 - accuracy: 0.7569 - val_loss: 0.5171 - val_accuracy: 0.7423\n",
            "Epoch 6/30\n",
            "157/157 [==============================] - 41s 259ms/step - loss: 0.4846 - accuracy: 0.7640 - val_loss: 0.5138 - val_accuracy: 0.7441\n",
            "Epoch 7/30\n",
            "157/157 [==============================] - 41s 262ms/step - loss: 0.4738 - accuracy: 0.7700 - val_loss: 0.5176 - val_accuracy: 0.7424\n",
            "Epoch 8/30\n",
            "157/157 [==============================] - 40s 256ms/step - loss: 0.4658 - accuracy: 0.7756 - val_loss: 0.5183 - val_accuracy: 0.7430\n",
            "Epoch 9/30\n",
            "157/157 [==============================] - 41s 260ms/step - loss: 0.4577 - accuracy: 0.7815 - val_loss: 0.5183 - val_accuracy: 0.7419\n",
            "Epoch 10/30\n",
            "157/157 [==============================] - 41s 261ms/step - loss: 0.4512 - accuracy: 0.7845 - val_loss: 0.5227 - val_accuracy: 0.7417\n",
            "Epoch 11/30\n",
            "157/157 [==============================] - 40s 252ms/step - loss: 0.4443 - accuracy: 0.7904 - val_loss: 0.5232 - val_accuracy: 0.7402\n",
            "Epoch 00011: early stopping\n",
            "CPU times: user 11min 2s, sys: 1min 20s, total: 12min 23s\n",
            "Wall time: 7min 32s\n"
          ],
          "name": "stdout"
        }
      ]
    },
    {
      "cell_type": "code",
      "metadata": {
        "execution": {
          "iopub.status.busy": "2021-07-10T18:16:44.240856Z",
          "iopub.execute_input": "2021-07-10T18:16:44.241293Z",
          "iopub.status.idle": "2021-07-10T18:16:44.407892Z",
          "shell.execute_reply.started": "2021-07-10T18:16:44.241258Z",
          "shell.execute_reply": "2021-07-10T18:16:44.406797Z"
        },
        "trusted": true,
        "colab": {
          "base_uri": "https://localhost:8080/",
          "height": 313
        },
        "id": "zrGDbt3E_D83",
        "outputId": "02444efa-bdbb-4a17-f468-ad7d9e022412"
      },
      "source": [
        "plt.plot(history_B.history['accuracy'])\n",
        "plt.plot(history_B.history['val_accuracy'])\n",
        "plt.ylabel('Accuracy')\n",
        "plt.title('RNN with word embedding glove')\n",
        "plt.xlabel('Epoch')\n",
        "plt.legend(['Train', 'Validation'], loc='upper left')"
      ],
      "execution_count": 51,
      "outputs": [
        {
          "output_type": "execute_result",
          "data": {
            "text/plain": [
              "<matplotlib.legend.Legend at 0x7fcc860ac490>"
            ]
          },
          "metadata": {
            "tags": []
          },
          "execution_count": 51
        },
        {
          "output_type": "display_data",
          "data": {
            "image/png": "[encoded data removed]",
            "text/plain": [
              "<Figure size 432x288 with 1 Axes>"
            ]
          },
          "metadata": {
            "tags": [],
            "needs_background": "light"
          }
        }
      ]
    },
    {
      "cell_type": "code",
      "metadata": {
        "id": "KeZxmB1I_D85"
      },
      "source": [
        ""
      ],
      "execution_count": 51,
      "outputs": []
    }
  ]
}